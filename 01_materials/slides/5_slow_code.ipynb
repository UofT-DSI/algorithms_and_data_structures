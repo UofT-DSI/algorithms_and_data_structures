{
 "cells": [
  {
   "attachments": {},
   "cell_type": "markdown",
   "id": "8be3d6b3-42a8-45cc-b9f7-4d8ee3288731",
   "metadata": {},
   "source": [
    "# Why is my code slow?\n",
    "\n",
    "## Outline\n",
    "\n",
    "-   Caching, Memoization, and Vectorization\n",
    "\n",
    "-   Parallel Computing\n",
    "\n",
    "-   Faster Implementations versus Faster Algorithms\n",
    "\n",
    "# Caching, Memoization, and Vectorization\n",
    "\n",
    "## Caching\n",
    "\n",
    "-   *Caching* refers to storing things for later use\n",
    "\n",
    "    -   Your browser probably does by temporarily downloading page\n",
    "        details on your local disk\n",
    "\n",
    "    -   Faster, reduces server load\n",
    "\n",
    "    -   Other examples include 3D rendering and saving common database\n",
    "        queries\n",
    "\n",
    "-   However, caching usually takes space in exchange for faster run\n",
    "    times\n",
    "\n",
    "-   The *space-time* trade off is a case where an algorithm trades\n",
    "    increased space usage for faster runtimes\n",
    "\n",
    "## Memoization\n",
    "\n",
    "-   *Memoization* refers to storing results of function calls to use for\n",
    "    later\n",
    "\n",
    "    -   Specific method of caching\n",
    "\n",
    "-   This is useful for methods with a lot of repeated computations\n",
    "\n",
    "-   For instance, in our recursive Fibonacci number function.\n",
    "\n",
    "-   `fib(12)` is called by `fib(13)`, `fib(14)` etc.\n",
    "\n",
    "    -   And `fib(3)` is called many many times\n",
    "\n",
    "-   $F(5) = F(4) + F(3) = F(3) + F(2) + F(2) + F(1)$ Which calculates\n",
    "    repeated subproblems\n",
    "\n",
    "## How Memoization Works\n",
    "\n",
    "-   Since we store the results, each function call is only made once,\n",
    "    making the time complexity $O(n)$, much better than $O(2^n)$ [1]\n",
    "\n",
    "-   Memoization can also avoid the maximum recursion depth error because\n",
    "    the call stack is smaller\n",
    "\n",
    "## Memoization Python\n",
    "\n",
    "[1] From Bhargava chapter 8"
   ]
  },
  {
   "cell_type": "code",
   "execution_count": 1,
   "id": "cd739aeb-3d1b-462d-b356-f2a7adacb55b",
   "metadata": {},
   "outputs": [],
   "source": [
    "def fib_original(n):\n",
    "    if n <= 1:\n",
    "        return n\n",
    "    else:\n",
    "        return fib_original(n-1) + fib_original(n-2)"
   ]
  },
  {
   "cell_type": "code",
   "execution_count": 5,
   "id": "91cb388a-55f7-41ab-ba92-3ee0816f1bea",
   "metadata": {},
   "outputs": [
    {
     "data": {
      "text/plain": [
       "102334155"
      ]
     },
     "execution_count": 5,
     "metadata": {},
     "output_type": "execute_result"
    }
   ],
   "source": [
    "fib_original(40) # 30 seconds calculate O(2^n)"
   ]
  },
  {
   "cell_type": "code",
   "execution_count": null,
   "id": "458a2055-a70a-48fa-a058-8c4d3b5863b8",
   "metadata": {},
   "outputs": [],
   "source": []
  },
  {
   "cell_type": "code",
   "execution_count": null,
   "id": "38c20618-d1bb-4c6b-9229-224d47ddc351",
   "metadata": {},
   "outputs": [],
   "source": []
  },
  {
   "cell_type": "code",
   "execution_count": 9,
   "id": "ce6a06c2-a5f2-4c3e-aa8e-dafb5b8bf2c2",
   "metadata": {},
   "outputs": [
    {
     "data": {
      "text/plain": [
       "102334155"
      ]
     },
     "execution_count": 9,
     "metadata": {},
     "output_type": "execute_result"
    }
   ],
   "source": []
  },
  {
   "cell_type": "code",
   "execution_count": 6,
   "id": "41c39807",
   "metadata": {},
   "outputs": [],
   "source": [
    "cache = {0: 0, 1: 1}\n",
    "\n",
    "def fib(n):\n",
    "  if n in cache:\n",
    "    return cache[n]\n",
    "  else:\n",
    "    cache[n] = fib(n - 1) + fib(n - 2)\n",
    "    return cache[n]"
   ]
  },
  {
   "cell_type": "code",
   "execution_count": 8,
   "id": "5884b430-88ed-4803-85ac-3f5e40dabd58",
   "metadata": {},
   "outputs": [
    {
     "data": {
      "text/plain": [
       "102334155"
      ]
     },
     "execution_count": 8,
     "metadata": {},
     "output_type": "execute_result"
    }
   ],
   "source": [
    "fib(40) # Does not take 30 seconds"
   ]
  },
  {
   "cell_type": "code",
   "execution_count": 12,
   "id": "3fd26b22-908c-44a0-9694-cea20180731a",
   "metadata": {},
   "outputs": [
    {
     "data": {
      "text/plain": [
       "410615886307971260333568378719267105220125108637369252408885430926905584274113403731330491660850044560830036835706942274588569362145476502674373045446852160486606292497360503469773453733196887405847255290082049086907512622059054542195889758031109222670849274793859539133318371244795543147611073276240066737934085191731810993201706776838934766764778739502174470268627820918553842225858306408301661862900358266857238210235802504351951472997919676524004784236376453347268364152648346245840573214241419937917242918602639810097866942392015404620153818671425739835074851396421139982713640679581178458198658692285968043243656709796000"
      ]
     },
     "execution_count": 12,
     "metadata": {},
     "output_type": "execute_result"
    }
   ],
   "source": [
    "fib(3000) # Does not take 30 seconds O(n)"
   ]
  },
  {
   "cell_type": "code",
   "execution_count": null,
   "id": "160d2167-e76e-4b40-8608-967770aec14c",
   "metadata": {},
   "outputs": [],
   "source": []
  },
  {
   "cell_type": "code",
   "execution_count": null,
   "id": "11cec16f-f33b-4d64-ae3d-83b2b168251c",
   "metadata": {},
   "outputs": [],
   "source": []
  },
  {
   "cell_type": "code",
   "execution_count": null,
   "id": "955d4d34-8726-4041-9585-09cdd07176d6",
   "metadata": {},
   "outputs": [],
   "source": []
  },
  {
   "cell_type": "code",
   "execution_count": null,
   "id": "273e1a8a-f62b-45af-94e9-db88dae7f14c",
   "metadata": {},
   "outputs": [],
   "source": []
  },
  {
   "cell_type": "markdown",
   "id": "6bc77d06-4eb3-4a2b-a782-a24d86bfb804",
   "metadata": {},
   "source": [
    "For the base cases, we replace calling `fib(0)` and `fib(1)` by getting\n",
    "the values from the dictionary\n",
    "\n",
    "## Memoization Python\n",
    "\n",
    "-   We can use the `functools` library, which is included in the\n",
    "    standard library (no pip install needed!)\n",
    "\n",
    "    -   `functools` does memoization for you!\n",
    "\n",
    "-   We can use the `@cache` decorator, but the cached dictionary can\n",
    "    grow to massive sizes\n",
    "\n",
    "-   Instead, `@lru_cache(maxsize = n)` uses the LRU (least recently\n",
    "    used) `n` computations\n",
    "\n",
    "-   Alternatively, we can use `joblib` to store the memoized results in\n",
    "    a file\n",
    "\n",
    "## Memoization Python"
   ]
  },
  {
   "cell_type": "code",
   "execution_count": 3,
   "id": "0574f8be",
   "metadata": {},
   "outputs": [],
   "source": [
    "from functools import lru_cache\n",
    "\n",
    "@lru_cache(maxsize=3)\n",
    "def fib_rec(n):\n",
    "  if n == 0 or n == 1:\n",
    "    return n\n",
    "  else:\n",
    "    return fib_rec(n-1) + fib_rec(n-2)"
   ]
  },
  {
   "cell_type": "code",
   "execution_count": 21,
   "id": "9d5668d8-eefa-441a-ab9b-061ac98d2616",
   "metadata": {},
   "outputs": [
    {
     "data": {
      "text/plain": [
       "222232244629420445529739893461909967206666939096499764990979600"
      ]
     },
     "execution_count": 21,
     "metadata": {},
     "output_type": "execute_result"
    }
   ],
   "source": [
    "fib_rec(300)"
   ]
  },
  {
   "cell_type": "code",
   "execution_count": null,
   "id": "c85135d3-8c0f-4817-947b-d547a33dc736",
   "metadata": {},
   "outputs": [],
   "source": []
  },
  {
   "cell_type": "code",
   "execution_count": 33,
   "id": "6f29d3f4-0ea1-4019-933f-95506dd0a4fc",
   "metadata": {},
   "outputs": [],
   "source": [
    "@lru_cache(maxsize=5)\n",
    "def x(n):\n",
    "    return n"
   ]
  },
  {
   "cell_type": "code",
   "execution_count": 34,
   "id": "2d816c3b-6ede-4205-8c36-49240503a003",
   "metadata": {},
   "outputs": [
    {
     "data": {
      "text/plain": [
       "40"
      ]
     },
     "execution_count": 34,
     "metadata": {},
     "output_type": "execute_result"
    }
   ],
   "source": [
    "x(40)"
   ]
  },
  {
   "cell_type": "code",
   "execution_count": 38,
   "id": "c74f90e5-e33f-401a-8473-87c829bfc70e",
   "metadata": {},
   "outputs": [],
   "source": [
    "from cache_em_all import Cachable"
   ]
  },
  {
   "cell_type": "code",
   "execution_count": null,
   "id": "3df13627-4acd-4b48-902e-a0f0d6ab6b1e",
   "metadata": {},
   "outputs": [],
   "source": []
  },
  {
   "cell_type": "code",
   "execution_count": null,
   "id": "d2028d9f-cfca-4773-8086-b9c248efa4c6",
   "metadata": {},
   "outputs": [],
   "source": [
    "np.array([1, 2, 3, 4, 5]).max()"
   ]
  },
  {
   "cell_type": "code",
   "execution_count": null,
   "id": "f00da0de-a74f-4a2f-9ea0-21ceab350d0c",
   "metadata": {},
   "outputs": [],
   "source": []
  },
  {
   "cell_type": "markdown",
   "id": "e9bacef3-929c-4e5d-a3c1-cdbdb4fc23c0",
   "metadata": {},
   "source": [
    "## Vectorized Operations\n",
    "\n",
    "-   *Vectorization* is a technique of implementing array operations\n",
    "    without for loops\n",
    "\n",
    "-   We use functions defined by various modules that are highly\n",
    "    optimized for the specific problem\n",
    "\n",
    "-   NumPy provides a lot of functions that vectorized and are faster\n",
    "    than for loops\n",
    "\n",
    "    -   Array add/subtract/multiply/divide by scalar\n",
    "\n",
    "    -   Sum of array\n",
    "\n",
    "    -   Max/min of array\n",
    "\n",
    "-   Keep this in mind for some ML processes that are iterative, such as\n",
    "    gradient descent\n",
    "\n",
    "## Why Vectorized Operations Work\n",
    "\n",
    "-   Python is an interpreted language. There is no compiler and the\n",
    "    languages are dynamic\n",
    "\n",
    "-   C language, for instance, makes optimization at the compiler level\n",
    "    (before execution) to speed up your code\n",
    "\n",
    "-   Thus, NumPy implements arrays in C, which speeds things up\n",
    "\n",
    "-   The other reason vectorization works in because of parallelization\n",
    "\n",
    "# Parallel Computing\n",
    "\n",
    "## Parallelization\n",
    "\n",
    "Compare the following codes. What are their run times?"
   ]
  },
  {
   "cell_type": "code",
   "execution_count": 4,
   "id": "e1b91069",
   "metadata": {},
   "outputs": [],
   "source": [
    "@lru_cache(maxsize=10) # O(n)\n",
    "def fib(n):\n",
    "  if n <= 1:\n",
    "    return n\n",
    "  else:\n",
    "    return fib(n - 1) + fib(n - 2)"
   ]
  },
  {
   "cell_type": "markdown",
   "id": "18dfe855-fac7-4682-bd2b-65a3de0c7974",
   "metadata": {},
   "source": [
    "## Parallelization"
   ]
  },
  {
   "cell_type": "code",
   "execution_count": 5,
   "id": "655a10db",
   "metadata": {},
   "outputs": [],
   "source": [
    "import numpy\n",
    "\n",
    "def add_one(n, x): #O(n)\n",
    "  y = np.zeros(n)\n",
    "  for i in range(n):\n",
    "    y[i] = x[i] + 1\n",
    "        \n",
    "  return y"
   ]
  },
  {
   "cell_type": "code",
   "execution_count": null,
   "id": "bedc22fc-70d0-480f-a77e-293805269c8a",
   "metadata": {},
   "outputs": [],
   "source": [
    "5, [1, 2, 3, 4, 5]\n",
    "[2, 3, 4, 5, 6]\n"
   ]
  },
  {
   "cell_type": "code",
   "execution_count": null,
   "id": "eee713c8-6ae4-42f7-ad3d-94e083db4e12",
   "metadata": {},
   "outputs": [],
   "source": [
    "# joblib"
   ]
  },
  {
   "cell_type": "code",
   "execution_count": null,
   "id": "b00d15e3-acf9-4727-b81a-99107c869932",
   "metadata": {},
   "outputs": [],
   "source": []
  },
  {
   "cell_type": "markdown",
   "id": "97f89aea-133d-4596-852b-e5b56963ae5b",
   "metadata": {},
   "source": [
    "## Parallelization\n",
    "\n",
    "-   Both are $O(n)$, but the second code chunk can be done in *parallel*\n",
    "    because the $n$ computations are independent.\n",
    "\n",
    "-   Fibonacci depends on the previous two values\n",
    "\n",
    "-   The requirements for code to the parallelized and vectorized are\n",
    "    similar, but not the same\n",
    "\n",
    "-   The Numba library can help will parallelizing your code\n",
    "\n",
    "-   Note parallel means the process takes place on one machine, but\n",
    "    *distributed* means the computation is shared across many machines\n"
   ]
  },
  {
   "cell_type": "code",
   "execution_count": null,
   "id": "e075d171",
   "metadata": {},
   "outputs": [],
   "source": []
  },
  {
   "cell_type": "markdown",
   "id": "f5564358-201d-4342-960f-fd7b7a5228c9",
   "metadata": {},
   "source": [
    "From\n",
    "[leetcode](https://leetcode.com/problems/best-time-to-buy-and-sell-stock-ii/description/)\n",
    "\n",
    "# Faster Implementations versus Faster Algorithms\n",
    "\n",
    "## Faster Implementations versus Faster Algorithms\n",
    "\n",
    "-   There are two ways we speed up our code\n",
    "\n",
    "    -   Use a faster algorithm, such as dynamic programming instead of\n",
    "        brute force. Algorithms are concerned with the approach to the\n",
    "        problem\n",
    "\n",
    "    -   Use a faster implementation, such as vectorization instead of\n",
    "        loops\n",
    "\n",
    "-   It is useful to think about these separately when developing a\n",
    "    programming, then combining them to create a super-fast approach!\n",
    "\n",
    "# Recommended Problems and References\n",
    "\n",
    "## Recommended Problems and Readings\n",
    "\n",
    "-   Cormen: Chapter 34 on NP-Completeness (highly optional)\n",
    "\n",
    "-   Bhargava: Chapter 8 exercises\n",
    "\n",
    "    -   8.1 - 8.8\n",
    "\n",
    "-   Vectorize the second code chunk in the Parallelization section\n",
    "\n",
    "-   [Find the longest palindrome from a\n",
    "    string](https://leetcode.com/problems/longest-palindrome/) Hint: use\n",
    "    a greedy alogrithm\n",
    "\n",
    "-   [Computing Pascal’s\n",
    "    triangle](https://leetcode.com/problems/pascals-triangle/) Hint: use\n",
    "    dynamic programming\n",
    "\n",
    "## References\n",
    "\n",
    "-   Bhargava, A. Y. (2016). *Grokking algorithms: An illustrated guide\n",
    "    for programmers and other curious people.* Manning. Chapter 1.\n",
    "\n",
    "-   Cormen, T. H. (Ed.). (2009). *Introduction to algorithms* (3rd ed).\n",
    "    MIT Press. Chapter 1 and 3."
   ]
  }
 ],
 "metadata": {
  "kernelspec": {
   "display_name": "dsi_p",
   "language": "python",
   "name": "python3"
  },
  "language_info": {
   "codemirror_mode": {
    "name": "ipython",
    "version": 3
   },
   "file_extension": ".py",
   "mimetype": "text/x-python",
   "name": "python",
   "nbconvert_exporter": "python",
   "pygments_lexer": "ipython3",
   "version": "3.9.7"
  }
 },
 "nbformat": 4,
 "nbformat_minor": 5
}
