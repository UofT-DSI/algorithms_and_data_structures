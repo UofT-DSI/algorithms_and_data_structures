{
 "cells": [
  {
   "cell_type": "code",
   "execution_count": 2,
   "id": "117d9ac4-853c-48a7-ae65-22a984211fa0",
   "metadata": {},
   "outputs": [],
   "source": [
    "# Concepts covered in our previous session\n",
    "# Abstract Data Types vs Data Structures\n",
    "# \n",
    "# ADTs give us a common language to communicate design\n",
    "# ADT is abstract, and thus there's no implementation\n",
    "# Data Structure is a concrete implementation of ADT\n",
    "\n",
    "# List -> ADT\n",
    "# Python lists -> Data structure\n",
    "\n",
    "# Map -> ADT\n",
    "# dict - > python implemenation of a map -> Data structure\n"
   ]
  },
  {
   "cell_type": "code",
   "execution_count": 3,
   "id": "e2d4a5cb-0bff-47e6-990f-9c78df25a1cc",
   "metadata": {},
   "outputs": [
    {
     "data": {
      "text/plain": [
       "1"
      ]
     },
     "execution_count": 3,
     "metadata": {},
     "output_type": "execute_result"
    }
   ],
   "source": [
    "# Sets, Lists, Maps, Iterables\n",
    "# \n",
    "# sets: unordered collection of unique items\n",
    "# Lists: ordered collection of items\n",
    "# maps: key-value pairs, where keys are unique and pairs are unordered\n",
    "# iterables: collection of items, that we can iterate through\n",
    "\n",
    "# sets\n",
    "set1 = {1, 2, 3}\n",
    "# lists\n",
    "list1 = [1, 2, 3, 3]\n",
    "# maps\n",
    "dict1 = {1: \"one\", 2: \"two\", 3: \"three\"}\n",
    "\n",
    "# iterables\n",
    "iter1 = iter([1, 2, 3])\n",
    "next(iter1)"
   ]
  },
  {
   "cell_type": "code",
   "execution_count": null,
   "id": "bf2a2c4a-e338-432d-af33-cf3644d5beb2",
   "metadata": {
    "jupyter": {
     "source_hidden": true
    }
   },
   "outputs": [],
   "source": [
    "# Stacks and Queues\n",
    "# \n",
    "# Stacks - we push items on the top of the stack, and we pop items from the top (last inserted item)\n",
    "# Queues - We enqueue items at the back of the queue, and we dequeue from the front of the queue (first inserted item)"
   ]
  },
  {
   "cell_type": "code",
   "execution_count": null,
   "id": "5060d32b-a8cd-4010-a3d2-256b8b06e9b9",
   "metadata": {
    "jupyter": {
     "source_hidden": true
    }
   },
   "outputs": [],
   "source": [
    "# Linear search and Binary search \n",
    "# \n",
    "#  Linear search -> go through each item, one by one - O(n)\n",
    "# \n",
    "#  Binary search -> Operates on sorted collections, and splits the collection in half in each iteration, and selecting the desired side\n",
    "# O(log n)"
   ]
  },
  {
   "cell_type": "code",
   "execution_count": null,
   "id": "d212e959-2bea-4fdf-810a-33045cd527e3",
   "metadata": {},
   "outputs": [],
   "source": [
    "# Sorting Algorithms\n",
    "# sorted(), np.sort... , pd.sort_values() -> o(nlogn)\n",
    "# Selection sort, and insertion sort -> O(n^2) -> Very slow"
   ]
  },
  {
   "cell_type": "code",
   "execution_count": null,
   "id": "d79b800c-e839-46e0-9518-94f86011962a",
   "metadata": {},
   "outputs": [],
   "source": [
    "# Hash Tables and Hash Functions\n",
    "#\n",
    "# We use a mathematical calculation on a \"key\" in order to find the location of the \"value\"\n",
    "# The mathematical calculation is called a hash function\n",
    "# Ideally, the hash function gives the same, unique value for a given key\n",
    "# Using the hash function, we get the location of the value, and are able to directly access it O(1)"
   ]
  },
  {
   "cell_type": "code",
   "execution_count": null,
   "id": "ef2b3e99-36bb-4c31-b701-eea1ab3c30e5",
   "metadata": {},
   "outputs": [],
   "source": [
    "class HashTable():\n",
    "    def __init__(self, size=10):\n",
    "        self.size = size\n",
    "        self.ht = []\n",
    "        for i in range(size):\n",
    "            self.ht.append([])\n",
    "\n",
    "    def insert(self, key, value):\n",
    "\n",
    "    def contains(self, key):\n",
    "\n",
    "        return False\n",
    "                \n",
    "    def remove(self, key):\n",
    "\n",
    "    def get(self, key):"
   ]
  },
  {
   "cell_type": "code",
   "execution_count": null,
   "id": "d1def1c7-16ee-44d3-b592-5abeaa7fc249",
   "metadata": {},
   "outputs": [
    {
     "data": {
      "text/plain": [
       "[[('dog', 'charlie'), ('cat', 'freddie')], [], [('dog1', 'tobey')]]"
      ]
     },
     "execution_count": 124,
     "metadata": {},
     "output_type": "execute_result"
    }
   ],
   "source": [
    "my_hashtable.ht"
   ]
  },
  {
   "cell_type": "code",
   "execution_count": 125,
   "id": "a2e7dce8-7f95-4833-a214-f71e8cabdffc",
   "metadata": {},
   "outputs": [
    {
     "data": {
      "text/plain": [
       "True"
      ]
     },
     "execution_count": 125,
     "metadata": {},
     "output_type": "execute_result"
    }
   ],
   "source": [
    "my_hashtable.contains(\"dog\")"
   ]
  },
  {
   "cell_type": "code",
   "execution_count": 126,
   "id": "981a85d7-e226-44b0-82ba-b4522d17b007",
   "metadata": {},
   "outputs": [
    {
     "data": {
      "text/plain": [
       "True"
      ]
     },
     "execution_count": 126,
     "metadata": {},
     "output_type": "execute_result"
    }
   ],
   "source": [
    "my_hashtable.contains(\"cat\")"
   ]
  },
  {
   "cell_type": "code",
   "execution_count": 127,
   "id": "373d2f26-3ec7-416d-b770-5c9139e1fcf9",
   "metadata": {},
   "outputs": [
    {
     "data": {
      "text/plain": [
       "True"
      ]
     },
     "execution_count": 127,
     "metadata": {},
     "output_type": "execute_result"
    }
   ],
   "source": [
    "my_hashtable.contains(\"dog1\")"
   ]
  },
  {
   "cell_type": "code",
   "execution_count": 128,
   "id": "25b34d4f-08dc-4031-83ce-1bc3bfe983a4",
   "metadata": {},
   "outputs": [],
   "source": [
    "my_hashtable.remove(\"cat\")"
   ]
  },
  {
   "cell_type": "code",
   "execution_count": 129,
   "id": "2a6701c8-d85c-4d2a-bb55-3ef6bfa41be5",
   "metadata": {},
   "outputs": [
    {
     "data": {
      "text/plain": [
       "[[('dog', 'charlie')], [], [('dog1', 'tobey')]]"
      ]
     },
     "execution_count": 129,
     "metadata": {},
     "output_type": "execute_result"
    }
   ],
   "source": [
    "my_hashtable.ht"
   ]
  },
  {
   "cell_type": "code",
   "execution_count": 130,
   "id": "0deba70d-2605-4bde-bdc4-2d7757ce3bb5",
   "metadata": {},
   "outputs": [],
   "source": [
    "my_hashtable.get(\"cat\")"
   ]
  },
  {
   "cell_type": "code",
   "execution_count": 132,
   "id": "ae824c89-f40f-487c-bf01-7bd33446ed98",
   "metadata": {},
   "outputs": [
    {
     "data": {
      "text/plain": [
       "'tobey'"
      ]
     },
     "execution_count": 132,
     "metadata": {},
     "output_type": "execute_result"
    }
   ],
   "source": [
    "my_hashtable.get(\"dog1\")"
   ]
  },
  {
   "cell_type": "code",
   "execution_count": 133,
   "id": "692cab3a-9381-44c2-8b8a-6dd56f00073a",
   "metadata": {},
   "outputs": [],
   "source": [
    "my_hashtable.insert(\"cat\", \"freddie\")"
   ]
  },
  {
   "cell_type": "code",
   "execution_count": 134,
   "id": "bf0c5b8e-7ea3-4857-94ed-55153ebd94d9",
   "metadata": {},
   "outputs": [
    {
     "data": {
      "text/plain": [
       "[[('dog', 'charlie'), ('cat', 'freddie')], [], [('dog1', 'tobey')]]"
      ]
     },
     "execution_count": 134,
     "metadata": {},
     "output_type": "execute_result"
    }
   ],
   "source": [
    "my_hashtable.ht"
   ]
  },
  {
   "cell_type": "code",
   "execution_count": 135,
   "id": "e1a87240-e5a9-4cd1-b04e-9daaf6c4edfe",
   "metadata": {},
   "outputs": [
    {
     "data": {
      "text/plain": [
       "'freddie'"
      ]
     },
     "execution_count": 135,
     "metadata": {},
     "output_type": "execute_result"
    }
   ],
   "source": [
    "my_hashtable.get(\"cat\")"
   ]
  },
  {
   "cell_type": "code",
   "execution_count": 136,
   "id": "4f22c6cb-0c6f-4d95-8c6d-f5bf029acef5",
   "metadata": {},
   "outputs": [
    {
     "data": {
      "text/plain": [
       "0"
      ]
     },
     "execution_count": 136,
     "metadata": {},
     "output_type": "execute_result"
    }
   ],
   "source": [
    "hash('cat')%3"
   ]
  },
  {
   "cell_type": "code",
   "execution_count": 137,
   "id": "1fcbfd56-437e-4ea3-abe5-013ac8f9a10a",
   "metadata": {},
   "outputs": [
    {
     "data": {
      "text/plain": [
       "0"
      ]
     },
     "execution_count": 137,
     "metadata": {},
     "output_type": "execute_result"
    }
   ],
   "source": [
    "hash('dog')%3"
   ]
  },
  {
   "cell_type": "code",
   "execution_count": 138,
   "id": "95630025-e033-423e-aaa6-25c453d5678d",
   "metadata": {},
   "outputs": [
    {
     "data": {
      "text/plain": [
       "7952237981515176438"
      ]
     },
     "execution_count": 138,
     "metadata": {},
     "output_type": "execute_result"
    }
   ],
   "source": [
    "hash('cat')"
   ]
  },
  {
   "cell_type": "code",
   "execution_count": 139,
   "id": "b54328c1-e066-48cf-a119-307cf8594fb3",
   "metadata": {},
   "outputs": [
    {
     "data": {
      "text/plain": [
       "-5202075356895200049"
      ]
     },
     "execution_count": 139,
     "metadata": {},
     "output_type": "execute_result"
    }
   ],
   "source": [
    "hash('dog')"
   ]
  },
  {
   "cell_type": "code",
   "execution_count": null,
   "id": "b23acbcb-d027-4d56-b446-341631075ce9",
   "metadata": {},
   "outputs": [],
   "source": [
    "my_hashtable = HashTable()"
   ]
  },
  {
   "cell_type": "code",
   "execution_count": 26,
   "id": "09b9b2de",
   "metadata": {},
   "outputs": [
    {
     "data": {
      "text/plain": [
       "[[], [], [], [], [], [], [], [], [], []]"
      ]
     },
     "execution_count": 26,
     "metadata": {},
     "output_type": "execute_result"
    }
   ],
   "source": [
    "my_hashtable.ht"
   ]
  },
  {
   "cell_type": "code",
   "execution_count": null,
   "id": "e2bb2dd2",
   "metadata": {},
   "outputs": [
    {
     "name": "stdout",
     "output_type": "stream",
     "text": [
      "Key already inside hash table\n"
     ]
    }
   ],
   "source": [
    "my_hashtable.insert(\"dog\", \"Charlie\")"
   ]
  },
  {
   "cell_type": "code",
   "execution_count": 30,
   "id": "b714a191",
   "metadata": {},
   "outputs": [
    {
     "data": {
      "text/plain": [
       "[[], [('dog', 'Charlie')], [], [], [], [], [], [], [], []]"
      ]
     },
     "execution_count": 30,
     "metadata": {},
     "output_type": "execute_result"
    }
   ],
   "source": [
    "my_hashtable.ht"
   ]
  },
  {
   "cell_type": "code",
   "execution_count": 39,
   "id": "432e8eda",
   "metadata": {},
   "outputs": [
    {
     "name": "stdout",
     "output_type": "stream",
     "text": [
      "Key already inside hash table\n"
     ]
    }
   ],
   "source": [
    "my_hashtable.insert(\"cat\", \"Freddie\")"
   ]
  },
  {
   "cell_type": "code",
   "execution_count": 32,
   "id": "4df21727",
   "metadata": {},
   "outputs": [
    {
     "data": {
      "text/plain": [
       "[[('cat', 'Freddie')], [('dog', 'Charlie')], [], [], [], [], [], [], [], []]"
      ]
     },
     "execution_count": 32,
     "metadata": {},
     "output_type": "execute_result"
    }
   ],
   "source": [
    "my_hashtable.ht"
   ]
  },
  {
   "cell_type": "code",
   "execution_count": 50,
   "id": "4d23e771",
   "metadata": {},
   "outputs": [
    {
     "ename": "AttributeError",
     "evalue": "'HashTable' object has no attribute 'contains'",
     "output_type": "error",
     "traceback": [
      "\u001b[0;31m---------------------------------------------------------------------------\u001b[0m",
      "\u001b[0;31mAttributeError\u001b[0m                            Traceback (most recent call last)",
      "Cell \u001b[0;32mIn[50], line 1\u001b[0m\n\u001b[0;32m----> 1\u001b[0m \u001b[43mmy_hashtable\u001b[49m\u001b[38;5;241;43m.\u001b[39;49m\u001b[43mcontains\u001b[49m(\u001b[38;5;124m\"\u001b[39m\u001b[38;5;124mdog\u001b[39m\u001b[38;5;124m\"\u001b[39m, \u001b[38;5;124m\"\u001b[39m\u001b[38;5;124mCharlie\u001b[39m\u001b[38;5;124m\"\u001b[39m)\n",
      "\u001b[0;31mAttributeError\u001b[0m: 'HashTable' object has no attribute 'contains'"
     ]
    }
   ],
   "source": [
    "my_hashtable.contains(\"dog\", \"Charlie\")"
   ]
  },
  {
   "cell_type": "code",
   "execution_count": 44,
   "id": "6a72987f",
   "metadata": {},
   "outputs": [
    {
     "ename": "AttributeError",
     "evalue": "'HashTable' object has no attribute 'contains'",
     "output_type": "error",
     "traceback": [
      "\u001b[0;31m---------------------------------------------------------------------------\u001b[0m",
      "\u001b[0;31mAttributeError\u001b[0m                            Traceback (most recent call last)",
      "Cell \u001b[0;32mIn[44], line 1\u001b[0m\n\u001b[0;32m----> 1\u001b[0m \u001b[43mmy_hashtable\u001b[49m\u001b[38;5;241;43m.\u001b[39;49m\u001b[43mcontains\u001b[49m(\u001b[38;5;124m\"\u001b[39m\u001b[38;5;124mcat\u001b[39m\u001b[38;5;124m\"\u001b[39m)\n",
      "\u001b[0;31mAttributeError\u001b[0m: 'HashTable' object has no attribute 'contains'"
     ]
    }
   ],
   "source": [
    "my_hashtable.contains(\"cat\")"
   ]
  },
  {
   "cell_type": "code",
   "execution_count": 46,
   "id": "194201b7",
   "metadata": {},
   "outputs": [
    {
     "ename": "AttributeError",
     "evalue": "'HashTable' object has no attribute 'get'",
     "output_type": "error",
     "traceback": [
      "\u001b[0;31m---------------------------------------------------------------------------\u001b[0m",
      "\u001b[0;31mAttributeError\u001b[0m                            Traceback (most recent call last)",
      "Cell \u001b[0;32mIn[46], line 1\u001b[0m\n\u001b[0;32m----> 1\u001b[0m \u001b[43mmy_hashtable\u001b[49m\u001b[38;5;241;43m.\u001b[39;49m\u001b[43mget\u001b[49m(\u001b[38;5;124m\"\u001b[39m\u001b[38;5;124mcat\u001b[39m\u001b[38;5;124m\"\u001b[39m)\n",
      "\u001b[0;31mAttributeError\u001b[0m: 'HashTable' object has no attribute 'get'"
     ]
    }
   ],
   "source": [
    "my_hashtable.get(\"cat\")"
   ]
  },
  {
   "cell_type": "code",
   "execution_count": null,
   "id": "046d88ee-34e0-4b08-8890-b9f4d7555b97",
   "metadata": {},
   "outputs": [],
   "source": []
  },
  {
   "cell_type": "code",
   "execution_count": 140,
   "id": "916ca17f-042a-43a6-8480-9f76ba1e03d3",
   "metadata": {},
   "outputs": [],
   "source": [
    "# Leet code style question 1\n",
    "# Implement a Stack that supports the following operations:\n",
    "# \n",
    "# push(x): Push an integer onto the stack.\n",
    "# pop(): Removes the top element of the stack.\n",
    "# top(): Get the top element.\n",
    "\n",
    "\n",
    "class MyStack():\n",
    "    def __init__(self):\n",
    "        self.stack = []\n",
    "\n",
    "    def push(self, x):\n",
    "        self.stack.append(x)\n",
    "\n",
    "    def pop(self):\n",
    "        return self.stack.pop()\n",
    "\n",
    "    def top(self):\n",
    "        return self.stack[len(self.stack)-1] # self.stack[-1]\n",
    "\n",
    "    def length(self):\n",
    "        return len(self.stack)\n"
   ]
  },
  {
   "cell_type": "code",
   "execution_count": null,
   "id": "3de42a50-f549-4140-a06f-df03bd7becdc",
   "metadata": {},
   "outputs": [],
   "source": [
    "['patient1', 'patient2']\n",
    "{'patient1': [], 'patient2': []}"
   ]
  },
  {
   "cell_type": "code",
   "execution_count": 141,
   "id": "58fa213f-3b77-44d3-a66f-b5db0744ff92",
   "metadata": {},
   "outputs": [],
   "source": [
    "stack = MyStack()"
   ]
  },
  {
   "cell_type": "code",
   "execution_count": 142,
   "id": "623a1ddb-374e-4733-a94e-5ddd9257c1aa",
   "metadata": {},
   "outputs": [],
   "source": [
    "stack.push(5)"
   ]
  },
  {
   "cell_type": "code",
   "execution_count": 143,
   "id": "1fa0c72f-8786-49b9-869b-ecfa49b0e10c",
   "metadata": {},
   "outputs": [],
   "source": [
    "stack.push(3)"
   ]
  },
  {
   "cell_type": "code",
   "execution_count": 144,
   "id": "00592d86-eab3-4376-b9da-da744da12f80",
   "metadata": {},
   "outputs": [],
   "source": [
    "stack.push(1)"
   ]
  },
  {
   "cell_type": "code",
   "execution_count": 145,
   "id": "93994018-5218-4ea2-afd8-94636de34fec",
   "metadata": {
    "scrolled": true
   },
   "outputs": [
    {
     "data": {
      "text/plain": [
       "[5, 3, 1]"
      ]
     },
     "execution_count": 145,
     "metadata": {},
     "output_type": "execute_result"
    }
   ],
   "source": [
    "stack.stack"
   ]
  },
  {
   "cell_type": "code",
   "execution_count": 146,
   "id": "d62de333-a45b-4ac5-80d6-b421082c3de4",
   "metadata": {},
   "outputs": [
    {
     "data": {
      "text/plain": [
       "1"
      ]
     },
     "execution_count": 146,
     "metadata": {},
     "output_type": "execute_result"
    }
   ],
   "source": [
    "stack.pop()"
   ]
  },
  {
   "cell_type": "code",
   "execution_count": 147,
   "id": "3eaa259b-566c-47b2-9d5b-24d7320acf75",
   "metadata": {},
   "outputs": [
    {
     "data": {
      "text/plain": [
       "[5, 3]"
      ]
     },
     "execution_count": 147,
     "metadata": {},
     "output_type": "execute_result"
    }
   ],
   "source": [
    "stack.stack"
   ]
  },
  {
   "cell_type": "code",
   "execution_count": 148,
   "id": "c51fa9d8-f90a-4d5e-b3e6-27bf33a8ee6f",
   "metadata": {},
   "outputs": [
    {
     "data": {
      "text/plain": [
       "3"
      ]
     },
     "execution_count": 148,
     "metadata": {},
     "output_type": "execute_result"
    }
   ],
   "source": [
    "stack.top()"
   ]
  },
  {
   "cell_type": "code",
   "execution_count": 149,
   "id": "10d3ab58-7a50-4f54-bf5f-e80bb6b17058",
   "metadata": {},
   "outputs": [
    {
     "data": {
      "text/plain": [
       "[5, 3]"
      ]
     },
     "execution_count": 149,
     "metadata": {},
     "output_type": "execute_result"
    }
   ],
   "source": [
    "stack.stack"
   ]
  },
  {
   "cell_type": "code",
   "execution_count": 150,
   "id": "0149299f-fc1a-457b-8ecf-cf65ae5f536e",
   "metadata": {},
   "outputs": [
    {
     "data": {
      "text/plain": [
       "2"
      ]
     },
     "execution_count": 150,
     "metadata": {},
     "output_type": "execute_result"
    }
   ],
   "source": [
    "stack.length()"
   ]
  },
  {
   "cell_type": "code",
   "execution_count": null,
   "id": "c96938fe-43fe-409d-b34f-3a76e2a047f5",
   "metadata": {},
   "outputs": [],
   "source": []
  },
  {
   "cell_type": "code",
   "execution_count": null,
   "id": "3677df5b-c885-4ab4-9b2c-d19580d10ce7",
   "metadata": {},
   "outputs": [],
   "source": []
  },
  {
   "cell_type": "code",
   "execution_count": null,
   "id": "beafa134-c21e-4a03-a0f8-ed303bd5cc94",
   "metadata": {},
   "outputs": [],
   "source": []
  },
  {
   "cell_type": "code",
   "execution_count": null,
   "id": "55e60c66-406b-4526-9a89-e6408637ee52",
   "metadata": {},
   "outputs": [],
   "source": []
  },
  {
   "cell_type": "code",
   "execution_count": null,
   "id": "9f1f39e1-e3e4-499c-8759-c1205d4f6df2",
   "metadata": {},
   "outputs": [],
   "source": []
  },
  {
   "cell_type": "code",
   "execution_count": null,
   "id": "940b8661-c6ed-4b4f-970e-b1db2a33d8d1",
   "metadata": {},
   "outputs": [],
   "source": [
    "def f2():\n",
    "    return 2\n",
    "\n",
    "def f1():\n",
    "    return f2()\n",
    "\n",
    "def main():\n",
    "    x = f1()\n",
    "    "
   ]
  },
  {
   "cell_type": "markdown",
   "id": "f9abeffa-c9c8-4358-8595-dc56aed105d9",
   "metadata": {},
   "source": [
    "# Recursion\n",
    "\n",
    "## Outline\n",
    "\n",
    "-   Call Stack\n",
    "\n",
    "-   Recursion\n",
    "\n",
    "-   Time and Space complexity of Recursion\n",
    "\n",
    "-   Mergesort\n",
    "\n",
    "-   Multiple recursive\n",
    "\n",
    "# Call Stack\n",
    "\n",
    "## How a Call Stack Works\n",
    "\n",
    "-   Your computer internally uses a call stack (stack ADT) to execute\n",
    "    functions\n",
    "\n",
    "-   When you run your Python file, the `main` functions is called.\n",
    "    `main` is pushed onto the stack\n",
    "\n",
    "    -   Sounds familiar? `if __name__ == \"__main__\":`\n",
    "\n",
    "-   As the main function executes, it may call other functions, each\n",
    "    functions is pushed to the top of the stack\n",
    "\n",
    "    -   The currently executing function is at the top of the stack\n",
    "\n",
    "-   When each function is executed, it is popped from the stack\n",
    "\n",
    "-   The function may return a value, which is passes to the calling\n",
    "    function (the function below in the stack).\n",
    "\n",
    "-   The calling function can use the return value and continue execution\n",
    "    until the stack is empty\n",
    "\n",
    "## Basic Example\n",
    "\n",
    "-   If I run `round(float(\"20.24\"))`, I expect `20`\n",
    "\n",
    "    -   The `round` function is first to be called, it is pushed on the\n",
    "        call stack\n",
    "\n",
    "    -   Then, `float(\"20.24\")` is called and pushed on the call stack\n",
    "\n",
    "-   Now, we pop each function off the call stack.\n",
    "\n",
    "    -   `float(\"20.24\")` returns `20.24`\n",
    "\n",
    "    -   `round` uses the return value of the previous function, `20.24`.\n",
    "        It executes `round(20.24)`, which returns `20`\n",
    "\n",
    "    -   The stack is empty, so the program finishes\n",
    "\n",
    "# Recursion\n",
    "\n",
    "## Motivating Example\n",
    "\n",
    "-   Suppose you are looking for a key in a box, but the box contains\n",
    "    more boxes!\n",
    "\n",
    "![](./images/box_recursion.png)\n",
    "\n",
    "-   2 minutes: write down the steps of the algorithm you would take to\n",
    "    search for the key\n",
    "\n",
    "## Algorithm 1: Loop\n",
    "\n",
    "1.  Make a pile of all the boxes\n",
    "\n",
    "2.  Grab a box and open it\n",
    "\n",
    "3.  If it contains a box, append it to your pile of boxes\n",
    "\n",
    "4.  If it contains the key, you’re done!\n",
    "\n",
    "5.  Repeat\n",
    "\n",
    "## Algorithm 2: Recursion\n",
    "\n",
    "1.  Grab a box and open it\n",
    "\n",
    "2.  If it contains a box, repeat step 1\n",
    "\n",
    "3.  If it contains the key, you’re done!"
   ]
  },
  {
   "cell_type": "markdown",
   "id": "ccd09003",
   "metadata": {},
   "source": [
    "*Which algorithm do you like more?*\n",
    "\n",
    "-   Notice the function is recursive because it calls itself\n",
    "\n",
    "-   Both algorithms achieve the same thing, but recursion is clearer (to\n",
    "    me)\n"
   ]
  },
  {
   "cell_type": "code",
   "execution_count": null,
   "id": "bfe1c5ab",
   "metadata": {},
   "outputs": [],
   "source": []
  },
  {
   "cell_type": "markdown",
   "id": "58070806",
   "metadata": {},
   "source": [
    "\n",
    "## Formula to write a recursive function\n",
    "\n",
    "-   Since recursive functions call themselves, its easy to write an\n",
    "    infinite loop\n",
    "\n",
    "-   Let’s write a function that does a countdown"
   ]
  },
  {
   "cell_type": "code",
   "execution_count": null,
   "id": "8d8054a4-76db-4cf9-9656-813496e7a951",
   "metadata": {},
   "outputs": [],
   "source": [
    "# countdown(10)\n",
    "10\n",
    "9\n",
    "8\n",
    "7\n",
    "6\n",
    "5\n",
    "4\n",
    "3\n",
    "2\n",
    "1\n",
    "0"
   ]
  },
  {
   "cell_type": "code",
   "execution_count": 156,
   "id": "1b65eaad",
   "metadata": {},
   "outputs": [],
   "source": [
    "def countdown(i):\n",
    "    print(i)\n",
    "    countdown(i - 1)"
   ]
  },
  {
   "cell_type": "markdown",
   "id": "35134324-9ff9-4c18-8ab1-531d7b6782d6",
   "metadata": {},
   "source": [
    "-   This runs forever, so we need a *base case* to tell the code when to\n",
    "    stop"
   ]
  },
  {
   "cell_type": "code",
   "execution_count": 159,
   "id": "1cf5d588",
   "metadata": {},
   "outputs": [],
   "source": [
    "def countdown(i):\n",
    "  print(i)\n",
    "    \n",
    "  if i <= 0:\n",
    "    return \n",
    "  else:\n",
    "    countdown(i - 1)\n"
   ]
  },
  {
   "cell_type": "code",
   "execution_count": 160,
   "id": "ca0c306f-c79a-4bc2-b810-1306068e5efc",
   "metadata": {},
   "outputs": [
    {
     "name": "stdout",
     "output_type": "stream",
     "text": [
      "10\n",
      "9\n",
      "8\n",
      "7\n",
      "6\n",
      "5\n",
      "4\n",
      "3\n",
      "2\n",
      "1\n",
      "0\n"
     ]
    }
   ],
   "source": [
    "countdown(10)"
   ]
  },
  {
   "cell_type": "code",
   "execution_count": 163,
   "id": "62c21586-3435-4671-895e-8742bebbaedc",
   "metadata": {},
   "outputs": [],
   "source": [
    "def countdown_iter(i):\n",
    "    for j in range(i, -1, -1):\n",
    "        print(j)"
   ]
  },
  {
   "cell_type": "code",
   "execution_count": 164,
   "id": "bc8e929e-a75f-48a7-b09a-c3e3e524e99c",
   "metadata": {},
   "outputs": [
    {
     "name": "stdout",
     "output_type": "stream",
     "text": [
      "10\n",
      "9\n",
      "8\n",
      "7\n",
      "6\n",
      "5\n",
      "4\n",
      "3\n",
      "2\n",
      "1\n",
      "0\n"
     ]
    }
   ],
   "source": [
    "countdown_iter(10)"
   ]
  },
  {
   "cell_type": "markdown",
   "id": "9b037a8c-5cbf-4b11-80ce-82f847958a9b",
   "metadata": {},
   "source": [
    "## Factorial\n",
    "\n",
    "-   The *factorial* is the product of all positive integers less than or\n",
    "    equal to the given integer\n",
    "\n",
    "    -   $5! = 5 \\times 4 \\times 3 \\times 2 \\times 1 = 120$\n",
    "\n",
    "    -   We define $1! = 1$\n",
    "\n",
    "-   Let’s use recursion to calculate factorials"
   ]
  },
  {
   "cell_type": "code",
   "execution_count": 167,
   "id": "435ff66d-e010-4f14-a19a-a59b4fc9bf2c",
   "metadata": {},
   "outputs": [
    {
     "data": {
      "text/plain": [
       "1"
      ]
     },
     "execution_count": 167,
     "metadata": {},
     "output_type": "execute_result"
    }
   ],
   "source": [
    "factorial(0)"
   ]
  },
  {
   "cell_type": "code",
   "execution_count": 72,
   "id": "60f2f42f-f7b6-47e5-8a77-7b434f80f2e2",
   "metadata": {},
   "outputs": [],
   "source": [
    "def factorial(n):\n",
    "    if n == 1 or n == 0:\n",
    "        return 1\n",
    "    else:\n",
    "        return n * factorial(n-1)"
   ]
  },
  {
   "cell_type": "code",
   "execution_count": 172,
   "id": "dd99fd2a-4461-4ca1-ba58-caa9da71f681",
   "metadata": {},
   "outputs": [
    {
     "data": {
      "text/plain": [
       "3628800"
      ]
     },
     "execution_count": 172,
     "metadata": {},
     "output_type": "execute_result"
    }
   ],
   "source": [
    "factorial(10)"
   ]
  },
  {
   "cell_type": "code",
   "execution_count": null,
   "id": "69a194c7-d1f7-4a55-b0e4-2af927eb5243",
   "metadata": {},
   "outputs": [],
   "source": []
  },
  {
   "cell_type": "code",
   "execution_count": null,
   "id": "0213870c",
   "metadata": {},
   "outputs": [],
   "source": []
  },
  {
   "cell_type": "markdown",
   "id": "55a43d42-3613-44d5-a622-898e39f4af52",
   "metadata": {},
   "source": [
    "-   Let’s examine the call stack when we call `factorial(3)`\n",
    "\n",
    "## Recursion and the Call Stack\n",
    "\n",
    "![](./images/rec_call_1.png)\n",
    "\n",
    "## Recursion and the Call Stack\n",
    "\n",
    "![](./images/rec_call_2.png)\n",
    "\n",
    "## Recursion and the Call Stack\n",
    "\n",
    "![](./images/rec_call_3.png)\n",
    "\n",
    "## Multiple Recursive Calls: Fibonacci Sequence\n",
    "\n",
    "-   In calculating the factorial, each recursion only calls itself once.\n",
    "    This doesn’t have to be the case\n",
    "\n",
    "-   The Fibonacci Sequence is a sequence of numbers where the first two\n",
    "    numbers are 0 and 1, with each subsequent number being being the sum\n",
    "    of the previous two numbers in the sequence.\n",
    "\n",
    "    -   Notice how the problem is defined recursively"
   ]
  },
  {
   "cell_type": "code",
   "execution_count": 78,
   "id": "4dd0e144",
   "metadata": {},
   "outputs": [],
   "source": [
    "def fib(n):\n",
    "  if n <= 1:\n",
    "    return n\n",
    "  else:\n",
    "    return fib(n - 1) + fib(n - 2) + fib(n-3)"
   ]
  },
  {
   "cell_type": "code",
   "execution_count": 178,
   "id": "6bc77e1b-7aee-44b0-bd5b-5b7c61785230",
   "metadata": {
    "scrolled": true
   },
   "outputs": [
    {
     "ename": "KeyboardInterrupt",
     "evalue": "",
     "output_type": "error",
     "traceback": [
      "\u001b[0;31m---------------------------------------------------------------------------\u001b[0m",
      "\u001b[0;31mKeyboardInterrupt\u001b[0m                         Traceback (most recent call last)",
      "Cell \u001b[0;32mIn[178], line 1\u001b[0m\n\u001b[0;32m----> 1\u001b[0m \u001b[43mfib\u001b[49m\u001b[43m(\u001b[49m\u001b[38;5;241;43m50\u001b[39;49m\u001b[43m)\u001b[49m\n",
      "Cell \u001b[0;32mIn[173], line 5\u001b[0m, in \u001b[0;36mfib\u001b[0;34m(n)\u001b[0m\n\u001b[1;32m      3\u001b[0m   \u001b[38;5;28;01mreturn\u001b[39;00m n\n\u001b[1;32m      4\u001b[0m \u001b[38;5;28;01melse\u001b[39;00m:\n\u001b[0;32m----> 5\u001b[0m   \u001b[38;5;28;01mreturn\u001b[39;00m \u001b[43mfib\u001b[49m\u001b[43m(\u001b[49m\u001b[43mn\u001b[49m\u001b[43m \u001b[49m\u001b[38;5;241;43m-\u001b[39;49m\u001b[43m \u001b[49m\u001b[38;5;241;43m1\u001b[39;49m\u001b[43m)\u001b[49m \u001b[38;5;241m+\u001b[39m fib(n \u001b[38;5;241m-\u001b[39m \u001b[38;5;241m2\u001b[39m)\n",
      "Cell \u001b[0;32mIn[173], line 5\u001b[0m, in \u001b[0;36mfib\u001b[0;34m(n)\u001b[0m\n\u001b[1;32m      3\u001b[0m   \u001b[38;5;28;01mreturn\u001b[39;00m n\n\u001b[1;32m      4\u001b[0m \u001b[38;5;28;01melse\u001b[39;00m:\n\u001b[0;32m----> 5\u001b[0m   \u001b[38;5;28;01mreturn\u001b[39;00m \u001b[43mfib\u001b[49m\u001b[43m(\u001b[49m\u001b[43mn\u001b[49m\u001b[43m \u001b[49m\u001b[38;5;241;43m-\u001b[39;49m\u001b[43m \u001b[49m\u001b[38;5;241;43m1\u001b[39;49m\u001b[43m)\u001b[49m \u001b[38;5;241m+\u001b[39m fib(n \u001b[38;5;241m-\u001b[39m \u001b[38;5;241m2\u001b[39m)\n",
      "    \u001b[0;31m[... skipping similar frames: fib at line 5 (35 times)]\u001b[0m\n",
      "Cell \u001b[0;32mIn[173], line 5\u001b[0m, in \u001b[0;36mfib\u001b[0;34m(n)\u001b[0m\n\u001b[1;32m      3\u001b[0m   \u001b[38;5;28;01mreturn\u001b[39;00m n\n\u001b[1;32m      4\u001b[0m \u001b[38;5;28;01melse\u001b[39;00m:\n\u001b[0;32m----> 5\u001b[0m   \u001b[38;5;28;01mreturn\u001b[39;00m fib(n \u001b[38;5;241m-\u001b[39m \u001b[38;5;241m1\u001b[39m) \u001b[38;5;241m+\u001b[39m \u001b[43mfib\u001b[49m\u001b[43m(\u001b[49m\u001b[43mn\u001b[49m\u001b[43m \u001b[49m\u001b[38;5;241;43m-\u001b[39;49m\u001b[43m \u001b[49m\u001b[38;5;241;43m2\u001b[39;49m\u001b[43m)\u001b[49m\n",
      "Cell \u001b[0;32mIn[173], line 1\u001b[0m, in \u001b[0;36mfib\u001b[0;34m(n)\u001b[0m\n\u001b[0;32m----> 1\u001b[0m \u001b[38;5;28;01mdef\u001b[39;00m \u001b[38;5;21mfib\u001b[39m(n):\n\u001b[1;32m      2\u001b[0m   \u001b[38;5;28;01mif\u001b[39;00m n \u001b[38;5;241m<\u001b[39m\u001b[38;5;241m=\u001b[39m \u001b[38;5;241m1\u001b[39m:\n\u001b[1;32m      3\u001b[0m     \u001b[38;5;28;01mreturn\u001b[39;00m n\n",
      "\u001b[0;31mKeyboardInterrupt\u001b[0m: "
     ]
    }
   ],
   "source": [
    "fib(50)"
   ]
  },
  {
   "cell_type": "code",
   "execution_count": null,
   "id": "283b0725-68d5-4884-9716-f51da9d2d8ac",
   "metadata": {},
   "outputs": [],
   "source": []
  },
  {
   "cell_type": "code",
   "execution_count": null,
   "id": "e56e6278-1a12-4ab7-9a00-fac5c927c707",
   "metadata": {},
   "outputs": [],
   "source": []
  },
  {
   "cell_type": "code",
   "execution_count": null,
   "id": "63ca0077-e1ec-4604-ab51-cbc9af1b6a7e",
   "metadata": {},
   "outputs": [],
   "source": []
  },
  {
   "cell_type": "code",
   "execution_count": 57,
   "id": "0c13beef",
   "metadata": {},
   "outputs": [
    {
     "data": {
      "text/plain": [
       "102334155"
      ]
     },
     "execution_count": 57,
     "metadata": {},
     "output_type": "execute_result"
    }
   ],
   "source": [
    "fib(40)"
   ]
  },
  {
   "cell_type": "code",
   "execution_count": null,
   "id": "0e5d7995",
   "metadata": {},
   "outputs": [],
   "source": []
  },
  {
   "cell_type": "markdown",
   "id": "5daa1db5-0554-4389-8138-ab87872bc79e",
   "metadata": {},
   "source": [
    "## 2 minutes: what is its time and space complexity?\n"
   ]
  },
  {
   "cell_type": "code",
   "execution_count": 174,
   "id": "07b4591d",
   "metadata": {},
   "outputs": [],
   "source": [
    "# Your answer here"
   ]
  },
  {
   "cell_type": "markdown",
   "id": "ba524b85",
   "metadata": {},
   "source": [
    "\n",
    "# Time and Space Complexity of Recursion\n",
    "\n",
    "## Time Complexity of Recursion\n",
    "\n",
    "-   Generally, recursion doesn’t have performance benefits compared to\n",
    "    loops (in problems like finding a key in nested boxes)\n",
    "\n",
    "    -   However, it is simpler to understand\n",
    "\n",
    "-   The time complexity of recursion depends on the number of time the\n",
    "    function calls itself (branches)\n",
    "\n",
    "    -   Factorial: the `fact` is called $n$ times before reaching the\n",
    "        base case so its $O(1^n) = O(n)$\n",
    "\n",
    "    -   If a recursive function called itself twice, then its $(2^n)$\n",
    "\n",
    "-   When a recursive function makes multiple calls, the run time will\n",
    "    often be $O(branches^{depth})$\n",
    "\n",
    "## Tricky Example"
   ]
  },
  {
   "cell_type": "code",
   "execution_count": 5,
   "id": "ea244039",
   "metadata": {},
   "outputs": [],
   "source": [
    "def recursive(n):\n",
    "  for i in range(n): \n",
    "    # Something happens\n",
    "      i += 2 \n",
    "      \n",
    "  if n <= 0: \n",
    "    return 1 \n",
    "  else: \n",
    "    return 1 + recursive(n - 3) "
   ]
  },
  {
   "cell_type": "code",
   "execution_count": null,
   "id": "a1c93b31-63f4-4374-8db6-f55cd8310b0f",
   "metadata": {},
   "outputs": [],
   "source": []
  },
  {
   "cell_type": "markdown",
   "id": "1deffe46-9bd9-436c-adea-abc5d6db88f2",
   "metadata": {},
   "source": [
    "-   Loop takes $n/2$ steps, because we increase `i` by 2\n",
    "\n",
    "-   Recursion takes $n/3$ steps **and** the loop is called recursively.\n",
    "\n",
    "    -   In other words, for each recursion, run the loop.\n",
    "\n",
    "-   The time complexity is $n/2 \\times n/3 = \\frac{n^2}{6} = O(n^2)$\n",
    "\n",
    "## Space complexity of recursion\n",
    "\n",
    "-   Notice the call stack takes up space in memory. How much depends on\n",
    "    the depth of the recursion\n",
    "\n",
    "-   Think about the maximum amount of space the call stack will need\n",
    "\n",
    "    -   Factorial: $O(n)$, when recursion reaches the base case\n",
    "\n",
    "-   Even when you have multiple branches, it’s possible only 1 branch at\n",
    "    depth $n$ is in memory at a time\n"
   ]
  },
  {
   "cell_type": "markdown",
   "id": "0712a264",
   "metadata": {},
   "source": [
    "## 2 minutes: to find the key in nested boxes, what is the memory complexity of the recursive approach versus the loop approach?\n"
   ]
  },
  {
   "cell_type": "code",
   "execution_count": null,
   "id": "2906e615",
   "metadata": {},
   "outputs": [],
   "source": [
    "# Your answer here"
   ]
  },
  {
   "cell_type": "markdown",
   "id": "e3095511",
   "metadata": {},
   "source": [
    "\n",
    "## Live Coding\n",
    "\n",
    "Given an list of positive integers and an integer x, we want to find all\n",
    "unique combinations in the list where the sum is equal to x. A number in\n",
    "the list can be used multiple times.\n",
    "\n",
    "### Example"
   ]
  },
  {
   "cell_type": "code",
   "execution_count": 182,
   "id": "b31da01e",
   "metadata": {
    "scrolled": true
   },
   "outputs": [
    {
     "data": {
      "text/plain": [
       "[[1, 2, 3, 1, 1],\n",
       " [1, 2, 3, 2],\n",
       " [1, 2, 4, 1],\n",
       " [1, 2, 4, 1],\n",
       " [1, 2, 5],\n",
       " [1, 2, 1, 3, 1],\n",
       " [1, 2, 1, 4],\n",
       " [1, 2, 2, 3],\n",
       " [1, 2, 4, 1],\n",
       " [1, 2, 5],\n",
       " [1, 3, 4],\n",
       " [1, 3, 1, 2, 1],\n",
       " [1, 3, 1, 3],\n",
       " [1, 3, 3, 1],\n",
       " [1, 3, 4],\n",
       " [1, 4, 1, 2],\n",
       " [1, 4, 2, 1],\n",
       " [1, 4, 3],\n",
       " [1, 5, 1, 1],\n",
       " [1, 5, 2],\n",
       " [1, 6, 1],\n",
       " [1, 6, 1],\n",
       " [1, 7],\n",
       " [1, 1, 2, 3, 1],\n",
       " [1, 1, 2, 4],\n",
       " [1, 1, 5, 1],\n",
       " [1, 2, 4, 1],\n",
       " [1, 2, 5],\n",
       " [1, 3, 4],\n",
       " [2, 3, 1, 2],\n",
       " [2, 3, 2, 1],\n",
       " [2, 3, 3],\n",
       " [2, 4, 1, 1],\n",
       " [2, 4, 2],\n",
       " [2, 5, 1],\n",
       " [2, 5, 1],\n",
       " [2, 6],\n",
       " [2, 1, 2, 3],\n",
       " [2, 1, 4, 1],\n",
       " [2, 1, 5],\n",
       " [2, 2, 3, 1],\n",
       " [2, 2, 4],\n",
       " [2, 5, 1],\n",
       " [3, 4, 1],\n",
       " [3, 4, 1],\n",
       " [3, 5],\n",
       " [3, 1, 3, 1],\n",
       " [3, 1, 4],\n",
       " [3, 2, 3],\n",
       " [3, 4, 1],\n",
       " [3, 5],\n",
       " [4, 1, 2, 1],\n",
       " [4, 1, 3],\n",
       " [4, 3, 1],\n",
       " [4, 4],\n",
       " [5, 1, 2],\n",
       " [5, 2, 1],\n",
       " [5, 3],\n",
       " [6, 1, 1],\n",
       " [6, 2],\n",
       " [7, 1],\n",
       " [7, 1],\n",
       " [8],\n",
       " [1, 2, 4, 1],\n",
       " [1, 2, 5],\n",
       " [1, 3, 4],\n",
       " [2, 5, 1],\n",
       " [3, 4, 1],\n",
       " [3, 5]]"
      ]
     },
     "execution_count": 182,
     "metadata": {},
     "output_type": "execute_result"
    }
   ],
   "source": [
    "# INPUT\n",
    "lst = [1,2, 3, 4 ,5 , 6,7 ,8 ,9, 1, 2, 3, 4, 5, 1]\n",
    "x = 8\n",
    "\n",
    "\n",
    "\n",
    "# base case:\n",
    "# x == 0\n",
    "# add our \"running combinations\" to our \"result\"\n",
    "# return no solution *\n",
    "\n",
    "# len(lst) == 0 or x < 0\n",
    "# return no solution\n",
    "\n",
    "# Recursive case:\n",
    "# 1 is part of the solution\n",
    "#      remove 1 from the lst, \n",
    "#      subtract 1 from x\n",
    "#      save 1 in our 'solution\"\n",
    "# 1 is not part of the solution\n",
    "#      remove 1 from the lst, \n",
    "#      Don't modify x\n",
    "#      Don't save 1 in our solution\n",
    "\n",
    "\n",
    "# We need a running solution (state) that we can access throughout function calls\n",
    "\n",
    "\n",
    "def find_sum(lst, x):\n",
    "    result = []\n",
    "    find_sum_rec(lst, x, [], result)\n",
    "    return result\n",
    "\n",
    "\n",
    "\n",
    "def find_sum_rec(lst, x, combinations, result):\n",
    "    if x == 0:\n",
    "        result.append(combinations)\n",
    "        return\n",
    "    if len(lst) == 0 or x < 0:\n",
    "        return\n",
    "\n",
    "    current_value = lst[0] \n",
    "    find_sum_rec(lst[1:], x-current_value, combinations + [current_value], result) # current_value is part of the solution    \n",
    "    find_sum_rec(lst[1:], x, combinations, result) # current_value is not part of the solution\n",
    "        \n",
    "\n",
    "\n",
    "# OUTPUT\n",
    "# [1, 5]\n",
    "# [6]\n",
    "\n",
    "find_sum(lst, x)"
   ]
  },
  {
   "cell_type": "code",
   "execution_count": null,
   "id": "bd660dc1",
   "metadata": {},
   "outputs": [],
   "source": []
  },
  {
   "cell_type": "markdown",
   "id": "b17e5971-fb5c-48a4-a92e-87a720633a26",
   "metadata": {},
   "source": [
    "# Mergesort\n",
    "\n",
    "## Divide and Conquer Algorithms\n",
    "\n",
    "-   Divide and Conquer (D&C) is a general method to solve problems\n",
    "    utilizing recursion.\n",
    "\n",
    "    -   Figure out the simplest case and use it as the base case\n",
    "\n",
    "    -   Figure out how to reduce your problem to the base case\n",
    "\n",
    "-   Let’s start with a trivial example: how would you sum a list of\n",
    "    integers?\n",
    "\n",
    "    -   Solution is obvious with a loop\n",
    "\n",
    "    -   Let’s do it recursively\n",
    "\n",
    "## Divide and Conquer Algorithms\n",
    "\n",
    "Step 1\n",
    "\n",
    "-   What is the simplest array to sum?\n",
    "\n",
    "-   Arrays with no elements or 1 element\n",
    "\n",
    "    -   sum of `[]` is 0, sum of `[8]` is 8\n",
    "\n",
    "Step 2\n",
    "\n",
    "-   How can we reduce all arrays to empty array?\n",
    "\n",
    "-   Notice `sum[2, 4, 5]` = 2 + `sum[4, 5]`, but the second version\n",
    "    reduced the problem\n",
    "\n",
    "## Divide and Conquer Algorithms"
   ]
  },
  {
   "cell_type": "code",
   "execution_count": 95,
   "id": "62e23418",
   "metadata": {},
   "outputs": [],
   "source": [
    "def rec_sum(lst):\n",
    "  if not lst:\n",
    "    return 0\n",
    "  else:\n",
    "    return lst[0] + rec_sum(lst[1:])"
   ]
  },
  {
   "cell_type": "markdown",
   "id": "64fc2295-0840-4a40-842b-8329578348da",
   "metadata": {},
   "source": [
    "-   Let’s work on a real problem next!\n",
    "\n",
    "## Mergesort\n",
    "\n",
    "-   Some lists don’t need to be sorted\n",
    "\n",
    "    -   Lists of size 1! This is our base case\n",
    "\n",
    "-   We can split lists in half until they contain 1 element, then merge\n",
    "    all of the sub-lists\n",
    "\n",
    "-   Python’s sort function uses a hybrid of merge and insertion sort,\n",
    "    both of which you’ve learned!\n",
    "\n",
    "![](./images/merge_sort.png)\n",
    "\n",
    "## Big-O of Merge Sort\n",
    "\n",
    "First consider the non-recursive part of the code\n",
    "\n",
    "-   The “divide” step takes linear time, since slicing operations take\n",
    "    roughly $n/2$ steps to make a left and right copy respectively.\n",
    "\n",
    "-   The merge operation also takes $n$ steps approximately\n",
    "\n",
    "-   All other operations are constants\n",
    "\n",
    "-   Together, the non-recursive part of this algorithm is $O(n)$\n",
    "\n",
    "Next consider the recursive calls\n",
    "\n",
    "-   Recall the big-O of recursion depends on the recursion depth and\n",
    "    number of calls. $O(branches^{depth})$\n",
    "\n",
    "-   The depth in Merge Sort is the number of times you need to divide to\n",
    "    get to a list of length 1.\n",
    "\n",
    "-   Mathematically, $2^{\\text{depth}} = n$, then\n",
    "    $\\text{depth} = \\text{log}n$. So there are approximately log $n$\n",
    "    levels\n",
    "\n",
    "## Big-O of Mergesort\n",
    "\n",
    "-   Since the $O(n)$ steps must be performed each recursion, the total\n",
    "    run time is $O(n\\text{log}n)$. Our analysis only depended on the\n",
    "    size of the list, so the best and worst case of mergesort is the\n",
    "    same\n",
    "\n",
    "-   This is much faster than insertion sort!\n",
    "\n",
    "-   2 minutes: does it have less space complexity than insertion sort?\n",
    "\n",
    "# Recommended Problems and References\n",
    "\n",
    "## Recommended Problems\n",
    "\n",
    "-   Bhargava: Chapter 4 exercises\n",
    "\n",
    "    -   4.1 to 4.8\n",
    "\n",
    "-   Write a recursive function that produces the\n",
    "    `RecursionError: maximum recursion depth exceeded` error.\n",
    "\n",
    "-   Write a iterative function to calculate the $n$th Fibonacci number.\n",
    "    What is its time and space complexity?\n",
    "\n",
    "-   Write a recursive function to determine if a string is a palindrome.\n",
    "    What is its time and space complexity?\n",
    "\n",
    "-   Write a recursive function to check if a given positive integer is a\n",
    "    prime number. What is its time and space complexity?\n",
    "\n",
    "## Recommended Problems\n",
    "\n",
    "-   Suppose you have a plot of land and want to divide the land into\n",
    "    even square plots, while keeping the plots as big as possible. How\n",
    "    would you do this using D&C? See Bhargava pg. 52.\n",
    "\n",
    "-   Explain why the “merge” step in mergesort is $O(n)$\n",
    "\n",
    "-   Implement mergesort. You might find using helper functions useful.\n",
    "\n",
    "-   Write a recursive function to perform binary search on a sorted list\n",
    "\n",
    "## Bonus Readings\n",
    "\n",
    "-   You may be interested in learning more about quicksort in Bhargava\n",
    "    chapter 4 or\n",
    "    [here](https://www.teach.cs.toronto.edu/~csc148h/winter/notes/recursive-sorting/recursive_sorting.html).\n",
    "    Quicksort is another recursive sorting method\n",
    "\n",
    "## References\n",
    "\n",
    "-   Bhargava, A. Y. (2016). *Grokking algorithms: An illustrated guide\n",
    "    for programmers and other curious people.* Manning. Chapter 3 and 4.\n",
    "\n",
    "-   Cormen, T. H. (Ed.). (2009). *Introduction to algorithms* (3rd ed).\n",
    "    MIT Press. Chapter 4."
   ]
  }
 ],
 "metadata": {
  "kernelspec": {
   "display_name": "dsi_participant",
   "language": "python",
   "name": "python3"
  },
  "language_info": {
   "codemirror_mode": {
    "name": "ipython",
    "version": 3
   },
   "file_extension": ".py",
   "mimetype": "text/x-python",
   "name": "python",
   "nbconvert_exporter": "python",
   "pygments_lexer": "ipython3",
   "version": "3.9.7"
  }
 },
 "nbformat": 4,
 "nbformat_minor": 5
}
