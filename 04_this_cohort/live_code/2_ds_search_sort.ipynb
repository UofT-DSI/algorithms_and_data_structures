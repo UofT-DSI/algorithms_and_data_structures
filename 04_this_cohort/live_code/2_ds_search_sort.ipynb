{
 "cells": [
  {
   "cell_type": "code",
   "execution_count": null,
   "id": "28288934",
   "metadata": {},
   "outputs": [],
   "source": [
    "# Review of Lecture 1"
   ]
  },
  {
   "cell_type": "code",
   "execution_count": 2,
   "id": "42381c08",
   "metadata": {},
   "outputs": [],
   "source": [
    "import timeit\n",
    "import random"
   ]
  },
  {
   "cell_type": "code",
   "execution_count": null,
   "id": "299a55d2",
   "metadata": {},
   "outputs": [],
   "source": [
    "# my_algorithm(my_data[:100]): # -> 20ms\n",
    "# my_algorithm(my_data): # -> 400ms\n",
    "# my_algorithm(my_data): # -> 5 hours"
   ]
  },
  {
   "cell_type": "code",
   "execution_count": 7,
   "id": "5b0d7a75",
   "metadata": {},
   "outputs": [],
   "source": [
    "\n",
    "small_list = list(range(10)) # 10\n",
    "medium_list = list(range(10**2)) # 100\n",
    "big_list = list(range(10**4)) #  10000\n",
    "\n",
    "random.shuffle(small_list)\n",
    "random.shuffle(medium_list)\n",
    "random.shuffle(big_list)"
   ]
  },
  {
   "cell_type": "code",
   "execution_count": 4,
   "id": "7f627a1b",
   "metadata": {},
   "outputs": [],
   "source": [
    "# O(1) - Constant - The runtime doesn't change based off the size of the input\n",
    "# O(log n) - Log n - The runtime scales logarithmacally based off the size of the input\n",
    "# O(n) - linear time - The runtime scales linearly/proportionally based off the size of the input 100 -> 1000, runtime 2 seconds -> 20 seconds\n",
    "# O(nlogn) - nlogn time - The runtime scales n*logn\n",
    "# O(n^2) - quadratic time - The runtime scales off a factor of n^2, if we double the size of the input, the runtime quadruples (2^2 = 4)\n",
    "# O(n^{3, 4, 5, 6..}) - Polynomial time\n",
    "# O(2^n) - Exponential time\n",
    "# O(n!) - Factorial time"
   ]
  },
  {
   "cell_type": "code",
   "execution_count": 5,
   "id": "161aeced",
   "metadata": {},
   "outputs": [
    {
     "name": "stdout",
     "output_type": "stream",
     "text": [
      "Time to run on small list: 0.000096\n",
      "Time to run on medium list: 0.000093 which is 0.97 times the small list\n",
      "Time to run on big list: 0.000094 which is 1.0153 times the medium list, and 1.0153 times the small list\n"
     ]
    }
   ],
   "source": [
    "def get_first_element(lst):\n",
    "    return lst[0]\n",
    "\n",
    "\n",
    "a = timeit.timeit(\"get_first_element(small_list)\", number=1000, globals=globals())\n",
    "b = timeit.timeit(\"get_first_element(medium_list)\", number=1000, globals=globals())\n",
    "c = timeit.timeit(\"get_first_element(big_list)\", number=1000, globals=globals())\n",
    "\n",
    "print(\"Time to run on small list: {0:.6f}\".format(a))\n",
    "print(\"Time to run on medium list: {0:.6f} which is {1:.2f} times the small list\".format(b, b/a))\n",
    "print(\"Time to run on big list: {0:.6f} which is {1:.4f} times the medium list, and {1:.4f} times the small list\".format(c, c/b, c/a))"
   ]
  },
  {
   "cell_type": "code",
   "execution_count": 6,
   "id": "113ffc1d",
   "metadata": {},
   "outputs": [
    {
     "name": "stdout",
     "output_type": "stream",
     "text": [
      "Time to run on small list: 0.000180\n",
      "Time to run on medium list: 0.000205 which is 1.14 times the small list\n",
      "Time to run on big list: 0.000261 which is 1.2713 times the medium list, and 1.2713 times the small list\n"
     ]
    }
   ],
   "source": [
    "def add_first_10_numbers(lst): # Precondition list should have atleast 10 elements\n",
    "    total = lst[0]\n",
    "    total = total + lst[1]\n",
    "    total = total + lst[2]\n",
    "    total = total + lst[3]\n",
    "    total = total + lst[4]\n",
    "    total = total + lst[5]\n",
    "    total = total + lst[6]\n",
    "    total = total + lst[7]\n",
    "    total = total + lst[8]\n",
    "    total = total + lst[9]\n",
    "    return total\n",
    " \n",
    "\n",
    "a = timeit.timeit(\"add_first_10_numbers(small_list)\", number=1000, globals=globals())\n",
    "b = timeit.timeit(\"add_first_10_numbers(medium_list)\", number=1000, globals=globals())\n",
    "c = timeit.timeit(\"add_first_10_numbers(big_list)\", number=1000, globals=globals())\n",
    "print(\"Time to run on small list: {0:.6f}\".format(a))\n",
    "print(\"Time to run on medium list: {0:.6f} which is {1:.2f} times the small list\".format(b, b/a))\n",
    "print(\"Time to run on big list: {0:.6f} which is {1:.4f} times the medium list, and {1:.4f} times the small list\".format(c, c/b, c/a))"
   ]
  },
  {
   "cell_type": "code",
   "execution_count": 8,
   "id": "fb0b7c6a",
   "metadata": {},
   "outputs": [
    {
     "name": "stdout",
     "output_type": "stream",
     "text": [
      "Time to run on small list: 0.000444\n",
      "Time to run on medium list: 0.006675 which is 15.02 times the small list\n",
      "Time to run on big list: 0.5194162669940852 which is 77.81215178209268 times the medium list, and 1168.703577611952 times the small list\n"
     ]
    }
   ],
   "source": [
    "def get_sum(lst):\n",
    "    total = 0\n",
    "    for item in lst:\n",
    "        total = total + item\n",
    "    return total\n",
    "\n",
    "\n",
    "a = timeit.timeit(\"get_sum(small_list)\", number=1000, globals=globals())\n",
    "b = timeit.timeit(\"get_sum(medium_list)\", number=1000, globals=globals())\n",
    "c = timeit.timeit(\"get_sum(big_list)\", number=1000, globals=globals())\n",
    "print(\"Time to run on small list: {0:.6f}\".format(a))\n",
    "print(\"Time to run on medium list: {0:.6f} which is {1:.2f} times the small list\".format(b, b/a))\n",
    "print(\"Time to run on big list: {} which is {} times the medium list, and {} times the small list\".format(c, c/b, c/a))"
   ]
  },
  {
   "cell_type": "code",
   "execution_count": 9,
   "id": "24fbad95",
   "metadata": {},
   "outputs": [
    {
     "name": "stdout",
     "output_type": "stream",
     "text": [
      "Time to run on small list: 0.001148\n",
      "Time to run on medium list: 0.012036 which is 10.49 times the small list\n",
      "Time to run on big list: 0.8932656050019432 which is 74.21639862832727 times the medium list, and 778.2876232088882 times the small list\n"
     ]
    }
   ],
   "source": [
    "def search(arr, target):\n",
    "    for i in range(len(arr)):\n",
    "        if arr[i] == target:\n",
    "            return i\n",
    "    return -1\n",
    "\n",
    "a = timeit.timeit(\"search(small_list, random.random() * len(small_list))\", number=1000, globals=globals())\n",
    "b = timeit.timeit(\"search(medium_list, random.random() * len(medium_list))\", number=1000, globals=globals())\n",
    "c = timeit.timeit(\"search(big_list, random.random() * len(big_list))\", number=1000, globals=globals())\n",
    "print(\"Time to run on small list: {0:.6f}\".format(a))\n",
    "print(\"Time to run on medium list: {0:.6f} which is {1:.2f} times the small list\".format(b, b/a))\n",
    "print(\"Time to run on big list: {} which is {} times the medium list, and {} times the small list\".format(c, c/b, c/a))"
   ]
  },
  {
   "cell_type": "code",
   "execution_count": 10,
   "id": "057c236f",
   "metadata": {},
   "outputs": [
    {
     "name": "stdout",
     "output_type": "stream",
     "text": [
      "Time to run on small list: 0.000123\n",
      "Time to run on medium list: 0.000239 which is 1.94 times the small list\n",
      "Time to run on big list: 0.0003462389868218452 which is 1.4503128947757407 times the medium list, and 2.8129615341963574 times the small list\n",
      "Time to run on huge list: 0.0009846569882938638 which is 2.8438651502885555 times the big list, and 7.999683276203249 times the small list\n"
     ]
    }
   ],
   "source": [
    "def binary_search(arr, target):\n",
    "    low, high = 0, len(arr) - 1\n",
    "    while low <= high:\n",
    "        mid = (low + high) // 2\n",
    "        if arr[mid] == target:\n",
    "            return mid\n",
    "        elif arr[mid] < target:\n",
    "            low = mid + 1\n",
    "        else:\n",
    "            high = mid - 1\n",
    "    return -1\n",
    "\n",
    "\n",
    "\n",
    "small_list = list(range(10))\n",
    "medium_list = list(range(100))\n",
    "big_list = list(range(10000))\n",
    "huge_list = list(range(1000000))\n",
    "\n",
    "\n",
    "a = timeit.timeit(\"binary_search(small_list, random.random() * len(small_list))\", number=100, globals=globals())\n",
    "b = timeit.timeit(\"binary_search(medium_list, random.random() * len(medium_list))\", number=100, globals=globals())\n",
    "c = timeit.timeit(\"binary_search(big_list, random.random() * len(big_list))\", number=100, globals=globals())\n",
    "d = timeit.timeit(\"binary_search(huge_list, random.random() * len(huge_list))\", number=100, globals=globals())\n",
    "print(\"Time to run on small list: {0:.6f}\".format(a))\n",
    "print(\"Time to run on medium list: {0:.6f} which is {1:.2f} times the small list\".format(b, b/a))\n",
    "print(\"Time to run on big list: {} which is {} times the medium list, and {} times the small list\".format(c, c/b, c/a))\n",
    "print(\"Time to run on huge list: {} which is {} times the big list, and {} times the small list\".format(d, d/c, d/a))"
   ]
  },
  {
   "cell_type": "code",
   "execution_count": 11,
   "id": "a747df4e",
   "metadata": {},
   "outputs": [
    {
     "name": "stdout",
     "output_type": "stream",
     "text": [
      "Time to run on small list: 0.000060\n",
      "Time to run on medium list: 0.004277 which is 71.69 times the small list\n",
      "Time to run on big list: 55.350023858001805 which is 12942.5814613845 times the medium list, and 927819.9219585957 times the small list\n"
     ]
    }
   ],
   "source": [
    "def bubble_sort(arr):\n",
    "    n = len(arr)\n",
    "    for i in range(n): \n",
    "        for j in range(0, n-i-1): \n",
    "            if arr[j] > arr[j+1]: \n",
    "                arr[j], arr[j+1] = arr[j+1], arr[j]\n",
    "    return arr\n",
    "# O(n^2)\n",
    "\n",
    "a = timeit.timeit(\"bubble_sort(small_list)\", number=10, globals=globals())\n",
    "b = timeit.timeit(\"bubble_sort(medium_list)\", number=10, globals=globals())\n",
    "c = timeit.timeit(\"bubble_sort(big_list)\", number=10, globals=globals()) # 10,000\n",
    "print(\"Time to run on small list: {0:.6f}\".format(a))\n",
    "print(\"Time to run on medium list: {0:.6f} which is {1:.2f} times the small list\".format(b, b/a))\n",
    "print(\"Time to run on big list: {} which is {} times the medium list, and {} times the small list\".format(c, c/b, c/a))"
   ]
  },
  {
   "cell_type": "code",
   "execution_count": 12,
   "id": "9ed3fe1e",
   "metadata": {},
   "outputs": [
    {
     "data": {
      "text/plain": [
       "[1, 2, 4]"
      ]
     },
     "execution_count": 12,
     "metadata": {},
     "output_type": "execute_result"
    }
   ],
   "source": [
    "sorted([1, 4, 2])"
   ]
  },
  {
   "cell_type": "code",
   "execution_count": null,
   "id": "7c102bfc",
   "metadata": {},
   "outputs": [],
   "source": []
  },
  {
   "cell_type": "code",
   "execution_count": null,
   "id": "1d545ee0",
   "metadata": {},
   "outputs": [],
   "source": []
  },
  {
   "cell_type": "code",
   "execution_count": null,
   "id": "4e43e66e",
   "metadata": {},
   "outputs": [],
   "source": []
  },
  {
   "cell_type": "code",
   "execution_count": null,
   "id": "903317da",
   "metadata": {},
   "outputs": [],
   "source": []
  },
  {
   "cell_type": "code",
   "execution_count": null,
   "id": "9c66d579",
   "metadata": {},
   "outputs": [],
   "source": []
  },
  {
   "cell_type": "code",
   "execution_count": null,
   "id": "d69dd92d",
   "metadata": {},
   "outputs": [],
   "source": []
  },
  {
   "cell_type": "code",
   "execution_count": null,
   "id": "4f023cee",
   "metadata": {},
   "outputs": [],
   "source": []
  },
  {
   "cell_type": "code",
   "execution_count": 16,
   "id": "813c3d6f",
   "metadata": {},
   "outputs": [],
   "source": [
    "set_1 = {1, 2, 3, 4, 5, 6}"
   ]
  },
  {
   "cell_type": "code",
   "execution_count": 17,
   "id": "4e5a5528",
   "metadata": {},
   "outputs": [],
   "source": [
    "set_1.add(7)"
   ]
  },
  {
   "cell_type": "code",
   "execution_count": 18,
   "id": "c3f50654",
   "metadata": {},
   "outputs": [
    {
     "data": {
      "text/plain": [
       "{1, 2, 3, 4, 5, 6, 7}"
      ]
     },
     "execution_count": 18,
     "metadata": {},
     "output_type": "execute_result"
    }
   ],
   "source": [
    "set_1"
   ]
  },
  {
   "cell_type": "code",
   "execution_count": 20,
   "id": "23e7edd3",
   "metadata": {},
   "outputs": [],
   "source": [
    "set_1.remove(3)"
   ]
  },
  {
   "cell_type": "code",
   "execution_count": 21,
   "id": "034e9dbb",
   "metadata": {},
   "outputs": [
    {
     "data": {
      "text/plain": [
       "{1, 2, 4, 5, 6, 7}"
      ]
     },
     "execution_count": 21,
     "metadata": {},
     "output_type": "execute_result"
    }
   ],
   "source": [
    "set_1"
   ]
  },
  {
   "cell_type": "code",
   "execution_count": 22,
   "id": "9c852d3e",
   "metadata": {},
   "outputs": [
    {
     "data": {
      "text/plain": [
       "True"
      ]
     },
     "execution_count": 22,
     "metadata": {},
     "output_type": "execute_result"
    }
   ],
   "source": [
    "1 in set_1"
   ]
  },
  {
   "cell_type": "code",
   "execution_count": 23,
   "id": "55c29711",
   "metadata": {},
   "outputs": [
    {
     "data": {
      "text/plain": [
       "False"
      ]
     },
     "execution_count": 23,
     "metadata": {},
     "output_type": "execute_result"
    }
   ],
   "source": [
    "3 in set_1"
   ]
  },
  {
   "cell_type": "code",
   "execution_count": 26,
   "id": "7f59ad44",
   "metadata": {},
   "outputs": [],
   "source": [
    "set_1.add(7)"
   ]
  },
  {
   "cell_type": "code",
   "execution_count": 41,
   "id": "3b7cf1d9",
   "metadata": {},
   "outputs": [
    {
     "data": {
      "text/plain": [
       "{1, 2, 4, 5, 6, 7}"
      ]
     },
     "execution_count": 41,
     "metadata": {},
     "output_type": "execute_result"
    }
   ],
   "source": [
    "set_1"
   ]
  },
  {
   "cell_type": "code",
   "execution_count": 31,
   "id": "3098c6a4",
   "metadata": {},
   "outputs": [],
   "source": [
    "list_1 = [1, 2, 3, 4, 5, 6]"
   ]
  },
  {
   "cell_type": "code",
   "execution_count": 33,
   "id": "b9275192",
   "metadata": {},
   "outputs": [],
   "source": [
    "list_1.insert(3, 4)"
   ]
  },
  {
   "cell_type": "code",
   "execution_count": 34,
   "id": "3ce9ee7f",
   "metadata": {},
   "outputs": [
    {
     "data": {
      "text/plain": [
       "[1, 2, 3, 4, 4, 5, 6]"
      ]
     },
     "execution_count": 34,
     "metadata": {},
     "output_type": "execute_result"
    }
   ],
   "source": [
    "list_1"
   ]
  },
  {
   "cell_type": "code",
   "execution_count": 39,
   "id": "5c415db6",
   "metadata": {},
   "outputs": [
    {
     "data": {
      "text/plain": [
       "5"
      ]
     },
     "execution_count": 39,
     "metadata": {},
     "output_type": "execute_result"
    }
   ],
   "source": [
    "list_1.pop(4)"
   ]
  },
  {
   "cell_type": "code",
   "execution_count": 38,
   "id": "1c72795a",
   "metadata": {},
   "outputs": [
    {
     "data": {
      "text/plain": [
       "[1, 2, 3, 4, 5, 6]"
      ]
     },
     "execution_count": 38,
     "metadata": {},
     "output_type": "execute_result"
    }
   ],
   "source": [
    "list_1"
   ]
  },
  {
   "cell_type": "code",
   "execution_count": 40,
   "id": "90b2955f",
   "metadata": {},
   "outputs": [
    {
     "data": {
      "text/plain": [
       "4"
      ]
     },
     "execution_count": 40,
     "metadata": {},
     "output_type": "execute_result"
    }
   ],
   "source": [
    "list_1[3]"
   ]
  },
  {
   "cell_type": "code",
   "execution_count": 42,
   "id": "9c1c3305",
   "metadata": {},
   "outputs": [],
   "source": [
    "dict_1 = {\"salaar\": 90, \"john\": 95, \"katie\": 99}"
   ]
  },
  {
   "cell_type": "code",
   "execution_count": 43,
   "id": "56a85545",
   "metadata": {},
   "outputs": [
    {
     "data": {
      "text/plain": [
       "{'salaar': 90, 'john': 95, 'katie': 99}"
      ]
     },
     "execution_count": 43,
     "metadata": {},
     "output_type": "execute_result"
    }
   ],
   "source": [
    "dict_1"
   ]
  },
  {
   "cell_type": "code",
   "execution_count": 44,
   "id": "4be4f5a0",
   "metadata": {},
   "outputs": [
    {
     "data": {
      "text/plain": [
       "90"
      ]
     },
     "execution_count": 44,
     "metadata": {},
     "output_type": "execute_result"
    }
   ],
   "source": [
    "dict_1['salaar']"
   ]
  },
  {
   "cell_type": "code",
   "execution_count": 45,
   "id": "34bc9974",
   "metadata": {},
   "outputs": [],
   "source": [
    "dict_1['salaar'] = 85"
   ]
  },
  {
   "cell_type": "code",
   "execution_count": 46,
   "id": "4ebbc6b5",
   "metadata": {},
   "outputs": [
    {
     "data": {
      "text/plain": [
       "85"
      ]
     },
     "execution_count": 46,
     "metadata": {},
     "output_type": "execute_result"
    }
   ],
   "source": [
    "dict_1['salaar']"
   ]
  },
  {
   "cell_type": "code",
   "execution_count": 47,
   "id": "0a3df868",
   "metadata": {},
   "outputs": [],
   "source": [
    "dict_1['susan'] = 95"
   ]
  },
  {
   "cell_type": "code",
   "execution_count": 48,
   "id": "a4205839",
   "metadata": {},
   "outputs": [
    {
     "data": {
      "text/plain": [
       "{'salaar': 85, 'john': 95, 'katie': 99, 'susan': 95}"
      ]
     },
     "execution_count": 48,
     "metadata": {},
     "output_type": "execute_result"
    }
   ],
   "source": [
    "dict_1"
   ]
  },
  {
   "cell_type": "code",
   "execution_count": 52,
   "id": "61acbea3",
   "metadata": {},
   "outputs": [
    {
     "data": {
      "text/plain": [
       "95"
      ]
     },
     "execution_count": 52,
     "metadata": {},
     "output_type": "execute_result"
    }
   ],
   "source": [
    "dict_1.pop('susan')"
   ]
  },
  {
   "cell_type": "code",
   "execution_count": 56,
   "id": "88ebccf2",
   "metadata": {},
   "outputs": [
    {
     "data": {
      "text/plain": [
       "{'salaar': 85, 'john': 95, 'katie': 99}"
      ]
     },
     "execution_count": 56,
     "metadata": {},
     "output_type": "execute_result"
    }
   ],
   "source": [
    "dict_1"
   ]
  },
  {
   "cell_type": "code",
   "execution_count": 57,
   "id": "6a8a3586",
   "metadata": {},
   "outputs": [],
   "source": [
    "iter_1 = iter([3, 4, 5, 6, 7, 8, 2, 3])"
   ]
  },
  {
   "cell_type": "code",
   "execution_count": 66,
   "id": "f34a4954",
   "metadata": {},
   "outputs": [
    {
     "ename": "StopIteration",
     "evalue": "",
     "output_type": "error",
     "traceback": [
      "\u001b[0;31m---------------------------------------------------------------------------\u001b[0m",
      "\u001b[0;31mStopIteration\u001b[0m                             Traceback (most recent call last)",
      "Cell \u001b[0;32mIn[66], line 1\u001b[0m\n\u001b[0;32m----> 1\u001b[0m \u001b[38;5;28mnext\u001b[39m(iter_1)\n",
      "\u001b[0;31mStopIteration\u001b[0m: "
     ]
    }
   ],
   "source": [
    "next(iter_1)"
   ]
  },
  {
   "cell_type": "code",
   "execution_count": null,
   "id": "4e8adcc6",
   "metadata": {},
   "outputs": [],
   "source": [
    "for i in ____: "
   ]
  },
  {
   "cell_type": "code",
   "execution_count": 78,
   "id": "d0bb0c16",
   "metadata": {},
   "outputs": [],
   "source": [
    "class Garage():\n",
    "    def __init__(self):\n",
    "        self.cars = ['honda', 'toyota', 'lexus', 'hyandai']\n",
    "        self.current_iteration = 0\n",
    "    \n",
    "    def __next__(self):\n",
    "        self.current_iteration+=1\n",
    "        if self.current_iteration == len(self.cars):\n",
    "            return\n",
    "        return self.cars[self.current_iteration - 1]\n",
    "        "
   ]
  },
  {
   "cell_type": "code",
   "execution_count": 75,
   "id": "341addbe",
   "metadata": {},
   "outputs": [],
   "source": [
    "garage_1 = Garage()"
   ]
  },
  {
   "cell_type": "code",
   "execution_count": 76,
   "id": "17da9815",
   "metadata": {},
   "outputs": [
    {
     "ename": "TypeError",
     "evalue": "'Garage' object is not iterable",
     "output_type": "error",
     "traceback": [
      "\u001b[0;31m---------------------------------------------------------------------------\u001b[0m",
      "\u001b[0;31mTypeError\u001b[0m                                 Traceback (most recent call last)",
      "Cell \u001b[0;32mIn[76], line 1\u001b[0m\n\u001b[0;32m----> 1\u001b[0m \u001b[38;5;28;01mfor\u001b[39;00m car \u001b[38;5;129;01min\u001b[39;00m garage_1:\n\u001b[1;32m      2\u001b[0m     \u001b[38;5;28mprint\u001b[39m(car)\n",
      "\u001b[0;31mTypeError\u001b[0m: 'Garage' object is not iterable"
     ]
    }
   ],
   "source": [
    "for car in garage_1:\n",
    "    print(car)"
   ]
  },
  {
   "cell_type": "code",
   "execution_count": null,
   "id": "77ea409c",
   "metadata": {},
   "outputs": [],
   "source": []
  },
  {
   "cell_type": "code",
   "execution_count": 85,
   "id": "69664093",
   "metadata": {},
   "outputs": [],
   "source": [
    "class MapList():\n",
    "    def __init__(self):\n",
    "        self.collection = {}\n",
    "    \n",
    "    def insert(self, index, item):\n",
    "        self.collection[index] = item\n",
    "        \n",
    "    \n",
    "    def get(self, index):\n",
    "        return self.collection[index]\n",
    "    \n",
    "    def remove(self, index):\n",
    "        return self.collection.pop(index)\n",
    "    \n",
    "    def print_array(self):\n",
    "        temp_array = []\n",
    "        \n",
    "        size = len(self.collection)\n",
    "        \n",
    "        for i in range(size):\n",
    "            temp_array.append(self.collection[i])\n",
    "        \n",
    "        print(temp_array)"
   ]
  },
  {
   "cell_type": "code",
   "execution_count": 86,
   "id": "fff85523",
   "metadata": {},
   "outputs": [],
   "source": [
    "ml = MapList()"
   ]
  },
  {
   "cell_type": "code",
   "execution_count": 87,
   "id": "0ac68ca6",
   "metadata": {},
   "outputs": [],
   "source": [
    "ml.insert(0, 1)\n",
    "ml.insert(1, 2)\n",
    "# ml.insert(2, 4)\n",
    "ml.insert(3, 8)"
   ]
  },
  {
   "cell_type": "code",
   "execution_count": 88,
   "id": "5be02fe2",
   "metadata": {},
   "outputs": [
    {
     "name": "stdout",
     "output_type": "stream",
     "text": [
      "[1, 2, 4, 8]\n"
     ]
    }
   ],
   "source": [
    "ml.print_array()"
   ]
  },
  {
   "cell_type": "code",
   "execution_count": null,
   "id": "f796592d",
   "metadata": {},
   "outputs": [],
   "source": []
  },
  {
   "attachments": {},
   "cell_type": "markdown",
   "id": "8837c9a6-8a69-4356-be21-9298c4317339",
   "metadata": {},
   "source": [
    "# Array-Based Data Structures, Searching, and Sorting\n",
    "\n",
    "## Outline\n",
    "\n",
    "-   Array Based Data Structures\n",
    "\n",
    "    -   Stack, queue, Python List\n",
    "\n",
    "-   Searching\n",
    "\n",
    "    -   Linear, Binary Search\n",
    "\n",
    "-   Sorting\n",
    "\n",
    "    -   Selection, Insertion Sort\n",
    "\n",
    "-   Hash map, hash table (Python dictionary), hash functions\n",
    "\n",
    "# Array Based Data Structures\n",
    "\n",
    "## Abstract Data Types Versus Data Structure\n",
    "\n",
    "-   Some concepts are generally useful and transcend any programming\n",
    "    language\n",
    "\n",
    "-   An **abstract data type** (ADT) defines some kind of data and\n",
    "    operations that can be performed on it\n",
    "\n",
    "    -   Abstract because there is no mention of *how* data is stored or\n",
    "        *how* the operations work\n",
    "\n",
    "    -   Concerned about “what”\n",
    "\n",
    "-   A **data structure** is a concrete method of storing data (and\n",
    "    therefore its operations).\n",
    "\n",
    "    -   For instance, Python List is a data structure because it has a\n",
    "        specific implementation.\n",
    "\n",
    "-   ADTs form a common vocabulary for computer scientists to discuss\n",
    "    problems. It allows us to focus on the design and worry about\n",
    "    implementation later.\n",
    "\n",
    "## Important ADTs\n",
    "\n",
    "-   Set\n",
    "\n",
    "    -   Data: a collection of unique elements\n",
    "\n",
    "    -   Operations: get size, insert a value (without introducing\n",
    "        duplicates), remove a specified value, check membership\n",
    "\n",
    "-   List\n",
    "\n",
    "    -   Data: an ordered sequence of elements\n",
    "\n",
    "    -   Operations: access element by index, insert a value at a given\n",
    "        index, remove a value at a given index\n",
    "\n",
    "## Important ADTs [1]\n",
    "\n",
    "-   Map\n",
    "\n",
    "    -   Data: a collection of key-value pairs, where each key is unique\n",
    "        and associated with a single value\n",
    "\n",
    "    -   Operations: look-up a value for a given key, insert a new\n",
    "        key-value pair, remove a key-value pair, update the value\n",
    "        associated with a given key\n",
    "\n",
    "-   Iterable\n",
    "\n",
    "    -   Data: a collection of values (may or may not be unique)\n",
    "\n",
    "    -   Operations: iterate through the elements of the collection one\n",
    "        at a time.\n",
    "\n",
    "## Relation between ADTs and Data Structures\n",
    "\n",
    "-   A Python `list` is not a ADT. But it is a natural implementation of\n",
    "    the List ADT.\n",
    "\n",
    "    -   The designers of Python implemented `list` operations\n",
    "\n",
    "-   A single ADT can be implemented by many data structures\n",
    "\n",
    "    -   You could implement List ADT using a Python `dict`\n",
    "\n",
    "    -   We can store the list `[\"DS\", 4, \"Life\"]` like this:\n",
    "        `{0: \"DS\", 1: 4, 2: \"Life\"}`\n",
    "\n",
    "-   A data structure can implement many ADTs\n",
    "\n",
    "    -   Practice: how can you implement a set with a Python `list`?\n",
    "\n",
    "## Python Lists\n",
    "\n",
    "-   Each element has an address in memory. The addresses are ordered by\n",
    "    index number and adjacent to each other.\n",
    "\n",
    "-   Run time for `append` method\n",
    "\n",
    "    -   A new address is created and placed at the end of the list\n",
    "\n",
    "    -   $O(1)$ time because it doesn’t matter how long the list is\n",
    "\n",
    "-   Run time for `insert` method\n",
    "\n",
    "    -   The worst case occurs when you insert at the beginning of the\n",
    "        list because each element in the list has to be shifted down by\n",
    "        1.\n",
    "\n",
    "    -   $O(n)$ time\n",
    "\n",
    "-   Run time for `delete` method\n",
    "\n",
    "    -   If you remove the first element, all other elements must be\n",
    "        shifted up by one.\n",
    "\n",
    "    -   $O(n)$ time\n",
    "\n",
    "## Stack\n",
    "\n",
    "-   A stack contains zero or more items\n",
    "\n",
    "    -   Items are added at the top of the stack, called *pushing*\n",
    "\n",
    "    -   Items are removed from the top of the stack, called *popping*\n",
    "\n",
    "-   The first item added to the stack is the last item removed\n",
    "\n",
    "    -   We call this “first-in-last-out” (LIFO) behavior\n",
    "\n",
    "-   2 minutes: is it faster to use the front or back of a Python list to\n",
    "    implement a stack? What is the Big-O for stack operations under each\n",
    "    choice?\n",
    "\n",
    "## Queue\n",
    "\n",
    "-   A queue contains zero or more items\n",
    "\n",
    "    -   Items are added at the rear of the queue, called *enqueue*\n",
    "\n",
    "    -   Items are removed from the front of the queue, called *dequeing*\n",
    "\n",
    "-   Items come out of the queue in the order they were added\n",
    "\n",
    "    -   We call this “first-in-first-out” (FIFO) behavior\n",
    "\n",
    "-   2 minutes: is it faster to use the front or back of a Python list to\n",
    "    implement a queue? What is the Big-O for stack operations under each\n",
    "    choice?\n",
    "\n",
    "# Searching\n",
    "\n",
    "## Motivating Example\n",
    "\n",
    "-   You want to develop a ML method to search through a video to figure\n",
    "    out when an bike is stolen.\n",
    "\n",
    "-   You could start from the beginning of your video feed and run your\n",
    "    ML method on each frame until you the bike is not in the frame.\n",
    "\n",
    "    -   This would take $O(n)$, probably a long time since you’re using\n",
    "        ML\n",
    "\n",
    "-   What if we started halfway through? If the bike was there, then\n",
    "    break the remaining video in half and check again. If the bike\n",
    "    wasn’t there, then break the previous part of the video in half and\n",
    "    check again.\n",
    "\n",
    "    -   This is *binary search*\n",
    "\n",
    "## Binary Versus Linear Search\n",
    "\n",
    "-   How many steps does binary searching through 100 numbers take?\n",
    "    10,000?\n",
    "\n",
    "    -   We can generalize this as $O(\\text{log}n)$\n",
    "\n",
    "-   What is the big-O of linear searching through 100 numbers? 10,000?\n",
    "\n",
    "    -   $O(n)$\n",
    "\n",
    "-   Notice binary search requires the list to be sorted in advance.\n",
    "\n",
    "    -   We implicitly assumed this in the bike theft example (time is\n",
    "        “sorted”)\n",
    "\n",
    "# Sorting\n",
    "\n",
    "## Selection Sort\n",
    "\n",
    "-   Suppose you want to sort prices of all fruits at a supermarket from\n",
    "    lowest to highest\n",
    "\n",
    "-   You go through the list, find the item with the lowest price then\n",
    "    place it on top, then find the second lowest price and place it\n",
    "    second, etc.\n",
    "\n",
    "    -   You will end up with a sorted list!\n",
    "\n",
    "-   To find the lowest price, you need to traverse the entire list. You\n",
    "    must do this $n$ times until there are no more items.\n",
    "\n",
    "    -   This takes $O(n^2)$ time\n",
    "\n",
    "## Insertion Sort\n",
    "\n",
    "-   Compare the current item to its predecessor. If the item is smaller\n",
    "    than its predecessor, compare it to the items before. Move the\n",
    "    greater items one position up to make space for the swapped item.\n",
    "\n",
    "-   You need to traverse the list once for each item in the list, so the\n",
    "    Big-O is $O(n^2)$.\n",
    "\n",
    "![](./images/insertion_sort.png)\n",
    "\n",
    "## Live Coding:\n",
    "\n",
    "The *h-index* is defined by Wikipedia as the maximum value of $h$ such\n",
    "that the given researcher has published at least $h$ papers that have\n",
    "each been cited at least $h$ times.\n",
    "\n",
    "Given a list of integers representing a researcher. Each index is their\n",
    "$ith$ publication and the value at the $ith$ index is the number of\n",
    "citation. Calculate the h-index of that researcher.\n",
    "\n",
    "### Example\n",
    "\n",
    "[1] From https://www.teach.cs.toronto.edu/~csc148h/winter/notes/"
   ]
  },
  {
   "cell_type": "code",
   "execution_count": 99,
   "id": "583320fb",
   "metadata": {},
   "outputs": [
    {
     "data": {
      "text/plain": [
       "[3, 2, 1]"
      ]
     },
     "execution_count": 99,
     "metadata": {},
     "output_type": "execute_result"
    }
   ],
   "source": []
  },
  {
   "cell_type": "code",
   "execution_count": 102,
   "id": "fd88bcec",
   "metadata": {},
   "outputs": [
    {
     "data": {
      "text/plain": [
       "3"
      ]
     },
     "execution_count": 102,
     "metadata": {},
     "output_type": "execute_result"
    }
   ],
   "source": [
    "# INPUT\n",
    "lst = [2, 2,5,6, 3]\n",
    "\n",
    "def find_h_index(lst):\n",
    "    size = len(lst)\n",
    "    for i in range(size, 0, -1):\n",
    "        count = 0\n",
    "        for j in lst:\n",
    "            if j >= i:\n",
    "                count += 1\n",
    "            if count == i:\n",
    "                return i\n",
    "    return 0\n",
    "\n",
    "\n",
    "def find_h_index_2(lst):\n",
    "    d = {}\n",
    "    for i in lst:\n",
    "        d[i] = 0\n",
    "    \n",
    "    for i in lst:\n",
    "        d[i] +=1\n",
    "        \n",
    "    keys = d.keys()\n",
    "    sorted_keys = reversed(sorted(keys)) # nlogn\n",
    "    total_count = 0\n",
    "    for i in sorted_keys:\n",
    "        total_count += d[i]\n",
    "        if total_count >= i:\n",
    "            return i\n",
    "        \n",
    "    \n",
    "    \n",
    "        \n",
    "    \n",
    "find_h_index_2(lst)\n",
    "# OUTPUT\n",
    "# 2"
   ]
  },
  {
   "cell_type": "markdown",
   "id": "7c3265c3-d522-4c73-8f61-8ac240af5395",
   "metadata": {},
   "source": [
    "# Hash map, hash table (Python dictionary), hash functions\n",
    "\n",
    "## Motivating Example\n",
    "\n",
    "-   Recall from the first lecture that searching in a Python set took\n",
    "    (basically) 0 seconds\n",
    "\n",
    "    -   How was this achieved?\n",
    "\n",
    "    -   Binary search only has $O(\\text{log}n)$ time, so there must be\n",
    "        something else\n",
    "\n",
    "-   To achieve $O(1)$ time, we need something that immediately knows the\n",
    "    where/what the item is.\n",
    "\n",
    "    -   This is the purpose of *hash functions*\n",
    "\n",
    "## Hash Functions\n",
    "\n",
    "-   A hash function is a function where you enter a string and it\n",
    "    returns an integer\n",
    "\n",
    "    -   Python objects have hash"
   ]
  },
  {
   "cell_type": "code",
   "execution_count": 127,
   "id": "92fbc341",
   "metadata": {},
   "outputs": [
    {
     "data": {
      "text/plain": [
       "5"
      ]
     },
     "execution_count": 127,
     "metadata": {},
     "output_type": "execute_result"
    }
   ],
   "source": [
    "hash(\"Sal\") % len(lst)"
   ]
  },
  {
   "cell_type": "code",
   "execution_count": 126,
   "id": "50dca8f0",
   "metadata": {},
   "outputs": [],
   "source": [
    "# hash(\"Salaa\") % len(lst)"
   ]
  },
  {
   "cell_type": "code",
   "execution_count": 149,
   "id": "2101a0ef",
   "metadata": {},
   "outputs": [],
   "source": [
    "ht = [0, 0, 0, 0, 0, 0, 0, 0, 0, 0]"
   ]
  },
  {
   "cell_type": "code",
   "execution_count": null,
   "id": "40419ccf",
   "metadata": {},
   "outputs": [],
   "source": []
  },
  {
   "cell_type": "code",
   "execution_count": null,
   "id": "9363611b",
   "metadata": {},
   "outputs": [],
   "source": []
  },
  {
   "cell_type": "code",
   "execution_count": 145,
   "id": "d15ac2b4",
   "metadata": {},
   "outputs": [],
   "source": [
    "def hash_function(inp, size=10):\n",
    "    return hash(inp)%size"
   ]
  },
  {
   "cell_type": "code",
   "execution_count": 146,
   "id": "7b2402a4",
   "metadata": {},
   "outputs": [
    {
     "data": {
      "text/plain": [
       "4"
      ]
     },
     "execution_count": 146,
     "metadata": {},
     "output_type": "execute_result"
    }
   ],
   "source": [
    "hash_function(\"Salaar\")"
   ]
  },
  {
   "cell_type": "code",
   "execution_count": 147,
   "id": "6dd2011f",
   "metadata": {},
   "outputs": [
    {
     "data": {
      "text/plain": [
       "9"
      ]
     },
     "execution_count": 147,
     "metadata": {},
     "output_type": "execute_result"
    }
   ],
   "source": [
    "hash_function(\"John\")"
   ]
  },
  {
   "cell_type": "code",
   "execution_count": 150,
   "id": "a85bb9b0",
   "metadata": {},
   "outputs": [],
   "source": [
    "value = \"Salaar\"\n",
    "\n",
    "ht[hash_function(value)] = value\n"
   ]
  },
  {
   "cell_type": "code",
   "execution_count": 151,
   "id": "0e29464c",
   "metadata": {},
   "outputs": [
    {
     "data": {
      "text/plain": [
       "[0, 0, 0, 0, 'Salaar', 0, 0, 0, 0, 0]"
      ]
     },
     "execution_count": 151,
     "metadata": {},
     "output_type": "execute_result"
    }
   ],
   "source": [
    "ht"
   ]
  },
  {
   "cell_type": "code",
   "execution_count": 152,
   "id": "17b74a9d",
   "metadata": {},
   "outputs": [],
   "source": [
    "value = \"John\"\n",
    "\n",
    "ht[hash_function(value)] = value\n"
   ]
  },
  {
   "cell_type": "code",
   "execution_count": 154,
   "id": "89d85bc2",
   "metadata": {},
   "outputs": [
    {
     "data": {
      "text/plain": [
       "[0, 0, 0, 0, 'Salaar', 0, 0, 0, 0, 'John']"
      ]
     },
     "execution_count": 154,
     "metadata": {},
     "output_type": "execute_result"
    }
   ],
   "source": [
    "ht"
   ]
  },
  {
   "cell_type": "code",
   "execution_count": null,
   "id": "3796f447",
   "metadata": {},
   "outputs": [],
   "source": []
  },
  {
   "cell_type": "code",
   "execution_count": null,
   "id": "652821a5",
   "metadata": {},
   "outputs": [],
   "source": []
  },
  {
   "cell_type": "code",
   "execution_count": 157,
   "id": "6b9aef63",
   "metadata": {},
   "outputs": [
    {
     "data": {
      "text/plain": [
       "False"
      ]
     },
     "execution_count": 157,
     "metadata": {},
     "output_type": "execute_result"
    }
   ],
   "source": [
    "value = \"Andy\"\n",
    "\n",
    "ht[hash_function(value)] == value\n"
   ]
  },
  {
   "cell_type": "code",
   "execution_count": null,
   "id": "9b10ce91",
   "metadata": {},
   "outputs": [],
   "source": []
  },
  {
   "cell_type": "code",
   "execution_count": null,
   "id": "f87d7674",
   "metadata": {},
   "outputs": [],
   "source": []
  },
  {
   "cell_type": "markdown",
   "id": "5e90a472-56d3-43ec-ad80-c348ccf52c6d",
   "metadata": {},
   "source": [
    "-   There are two requirements for a hash function\n",
    "\n",
    "    -   It needs to be consistent. For instance, if you enter “UofT” and\n",
    "        get “1827”, then every time you enter “UofT” you should get\n",
    "        “1827”\n",
    "\n",
    "    -   It maps different words to different numbers. Each string has a\n",
    "        unique hash.\n",
    "\n",
    "## Using Hash Functions: Example\n",
    "\n",
    "-   Suppose you have a grocery store catalog with prices and barcodes.\n",
    "    When you scan an item at checkout, you want it to instantly return\n",
    "    the price.\n",
    "\n",
    "-   You can put each barcode into a hash function.\n",
    "\n",
    "    -   Let’s say barcode “1234” *hashes* to “1” and “2” hashes to\n",
    "        “9876”\n",
    "\n",
    "    -   We store the price of item “1234” at address “1”. Store the\n",
    "        price of item “4321” at address “2”\n",
    "\n",
    "    -   We say the price at “1” is the *hash value* of “1”\n",
    "\n",
    "-   If there are 8 items sold at the store, then the hash function will\n",
    "    only return integers from 1 to 8\n",
    "\n",
    "    -   The size of the hash table is often referred to as its number of\n",
    "        bins or slots.\n",
    "\n",
    "    -   Thus, the hash function depends on the array\n",
    "\n",
    "-   This implementation is called a *hash table*\n",
    "\n",
    "    -   The hash table is basically a list of lists, and the hash\n",
    "        function maps an object to its location in the outer list.\n",
    "\n",
    "## Python’s Hash Tables: `dict`\n",
    "\n",
    "-   You will likely never implement a hash table yourself, most\n",
    "    languages have an implementation for has tables.\n",
    "\n",
    "    -   In Python, this is the `dict` class\n",
    "\n",
    "-   Dictionaries have keys and values (barcodes and prices)\n",
    "\n",
    "-   Dictionaries have really good performance. Search, insert, or delete\n",
    "    item are all are $O(1)$ in the average case.\n",
    "\n",
    "    -   Average case assumes you have a “good” hash function that avoids\n",
    "        *collisions*. You can read more about collisions in the\n",
    "        textbooks.\n",
    "\n",
    "    -   The worst case of Python dictionaries for search, insert, and\n",
    "        delete is $O(n)$.\n",
    "\n",
    "-   Recall Python dictionaries don’t allow duplicate keys, that is\n",
    "    because has hashes must be unique!\n",
    "\n",
    "## Python `set`\n",
    "\n",
    "-   Recall during the first lecture, we showcased that Python’s set\n",
    "    search was much faster than list search\n",
    "\n",
    "-   This is because Python’s set implements a hash function to store its\n",
    "    values\n",
    "\n",
    "# Recommended Problems and References\n",
    "\n",
    "## Recommended Problems\n",
    "\n",
    "-   Bhargava: Chapter 5\n",
    "\n",
    "    -   5.1 to 5.4\n",
    "\n",
    "    -   Read pages 79 to 86 on the use cases of hash functions\n",
    "\n",
    "-   Additional\n",
    "\n",
    "    -   Give examples of 2 situations to use a queue and 2 situations to\n",
    "        use a stack\n",
    "\n",
    "    -   In Python, code a `stack` class with `is_empty`, `push`, and\n",
    "        `pop` methods using the end of a Python list as the top of the\n",
    "        stack. Bonus: Compare the run time of using the start of the\n",
    "        list versus the end of the list as the top of the stack using\n",
    "        the `timeit` library!\n",
    "\n",
    "    -   In Python, code a `binary_search` function.\n",
    "\n",
    "    -   In Python, code a `hash_table` that can hash 4 values.\n",
    "\n",
    "## References\n",
    "\n",
    "-   Bhargava, A. Y. (2016). *Grokking algorithms: An illustrated guide\n",
    "    for programmers and other curious people.* Manning. Chapter 5.\n",
    "\n",
    "-   Cormen, T. H. (Ed.). (2009). *Introduction to algorithms* (3rd ed).\n",
    "    MIT Press. Chapter 2, 10, 11.\n",
    "\n",
    "-   Horton, D., & Liu, D. (2023, November 19). *CSC148 Lecture Notes*.\n",
    "    https://www.teach.cs.toronto.edu/~csc148h/winter/notes/"
   ]
  }
 ],
 "metadata": {
  "kernelspec": {
   "display_name": "Python 3 (ipykernel)",
   "language": "python",
   "name": "python3"
  },
  "language_info": {
   "codemirror_mode": {
    "name": "ipython",
    "version": 3
   },
   "file_extension": ".py",
   "mimetype": "text/x-python",
   "name": "python",
   "nbconvert_exporter": "python",
   "pygments_lexer": "ipython3",
   "version": "3.11.5"
  }
 },
 "nbformat": 4,
 "nbformat_minor": 5
}
