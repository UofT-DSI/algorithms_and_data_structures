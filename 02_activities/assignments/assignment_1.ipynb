{
 "cells": [
  {
   "cell_type": "markdown",
   "metadata": {},
   "source": [
    "# Coding Problems\n",
    "\n",
    "## Objective\n",
    "\n",
    "This assignment aims to demonstrate how to study a data structures or algorithms question in depth to prepare for an industry coding interview. Leetcode is a popular coding practice site that many use to practice for technical interviews. Like behavioral interviews, it's important to practice and keep your skills sharp.\n",
    "\n",
    "## Group Size\n",
    "\n",
    "Please complete this individually.\n",
    "\n",
    "## Parts:\n",
    "- Part 1: Figure out the problem you have been assigned, and understand the problem\n",
    "- Part 2: Answer the questions about your assigned problem (including solving it)\n",
    "\n",
    "## Part 1:\n",
    "\n",
    "_*You will be assigned one of three problems based of your first name. Enter your first name, in all lower case, execute the code below, and that will tell you your assigned problem. Include the output as part of your submission (do not clear the output). The problems are based-off problems from Leetcode.*_\n"
   ]
  },
  {
   "cell_type": "code",
   "execution_count": 1,
   "metadata": {},
   "outputs": [
    {
     "name": "stdout",
     "output_type": "stream",
     "text": [
      "1\n"
     ]
    }
   ],
   "source": [
    "import hashlib\n",
    "\n",
    "def hash_to_range(input_string: str) -> int:\n",
    "     hash_object = hashlib.sha256(input_string.encode())\n",
    "     hash_int = int(hash_object.hexdigest(), 16)\n",
    "     return (hash_int % 3) + 1\n",
    "input_string = \"venkusa\"\n",
    "result = hash_to_range(input_string)\n",
    "print(result) \n"
   ]
  },
  {
   "cell_type": "markdown",
   "metadata": {},
   "source": [
    "## Question One: First Duplicate in List\n",
    "**Description**  \n",
    "Given a list of integers, return the **first value that appears more than once**. If there are multiple duplicates, return the one that appears **first** in the list. If no duplicate exists, return `-1`.\n",
    "\n",
    "**Examples**\n",
    "```python\n",
    "Input: nums = [3, 1, 4, 2, 5, 1, 6]\n",
    "Output: 1\n",
    "```\n",
    "```python\n",
    "Input: nums = [7, 8, 9, 10]\n",
    "Output: -1\n",
    "```\n",
    "```python\n",
    "Input: nums = [4, 5, 6, 4, 6]\n",
    "Output: 4\n",
    "```\n",
    "\n",
    "**Question 1 Starter Code**"
   ]
  },
  {
   "cell_type": "code",
   "execution_count": 9,
   "metadata": {},
   "outputs": [
    {
     "name": "stdout",
     "output_type": "stream",
     "text": [
      "Input: [3, 1, 4, 2, 5, 1, 6]\n",
      "[3]\n",
      "[3, 1]\n",
      "[3, 1, 4]\n",
      "[3, 1, 4, 2]\n",
      "[3, 1, 4, 2, 5]\n",
      "Output: 1\n",
      "\n",
      "\n",
      "Input: [7, 8, 9, 10]\n",
      "[7]\n",
      "[7, 8]\n",
      "[7, 8, 9]\n",
      "[7, 8, 9, 10]\n",
      "Output: -1\n",
      "\n",
      "Input: [4, 5, 6, 4, 6]\n",
      "[4]\n",
      "[4, 5]\n",
      "[4, 5, 6]\n",
      "Output: 4\n",
      "\n"
     ]
    }
   ],
   "source": [
    "from typing import List\n",
    "\n",
    "def first_duplicate(nums: List[int]) -> int:\n",
    "    present = []\n",
    "    for num in nums:\n",
    "        if num in present:\n",
    "            return num\n",
    "        present.append(num)\n",
    "        print(present)\n",
    "    return -1\n",
    "    \n",
    "\n",
    "# Test 1\n",
    "nums = [3, 1, 4, 2, 5, 1, 6]\n",
    "print(\"Input:\", nums)\n",
    "print(\"Output:\", first_duplicate(nums))\n",
    "print()\n",
    "print()\n",
    "\n",
    "# Test 2\n",
    "nums = [7, 8, 9, 10]\n",
    "print(\"Input:\", nums)\n",
    "print(\"Output:\", first_duplicate(nums))\n",
    "print()\n",
    "\n",
    "# Test 3\n",
    "nums = [4, 5, 6, 4, 6]\n",
    "print(\"Input:\", nums)\n",
    "print(\"Output:\", first_duplicate(nums))\n",
    "print()\n",
    "\n"
   ]
  },
  {
   "cell_type": "markdown",
   "metadata": {},
   "source": [
    "## Question Two: Valid Bracket Sequence\n",
    "**Description**  \n",
    "Given a string containing only the characters `'('`, `')'`, `'{'`, `'}'`, `'['`, and `']'`, determine if the input string is a **valid bracket sequence**.  \n",
    "A string is valid if:\n",
    "- Open brackets are closed by the same type of brackets, and\n",
    "- Open brackets are closed in the correct order.\n",
    "\n",
    "**Examples**\n",
    "```python\n",
    "Input: s = \"([]{})\"\n",
    "Output: True\n",
    "```\n",
    "```python\n",
    "Input: s = \"([)]\"\n",
    "Output: False\n",
    "```\n",
    "```python\n",
    "Input: s = \"()[]{}\"\n",
    "Output: True\n",
    "```\n",
    "```python\n",
    "Input: s = \"[{]}\"\n",
    "Output: False\n",
    "```\n",
    "\n",
    "**Question 2 Starter Code**"
   ]
  },
  {
   "cell_type": "code",
   "execution_count": 1,
   "metadata": {},
   "outputs": [],
   "source": [
    "def is_valid_brackets(s: str) -> bool:\n",
    "    # TODO\n",
    "    pass"
   ]
  },
  {
   "cell_type": "markdown",
   "metadata": {},
   "source": [
    "## Question Three: Move All Zeros to End\n",
    "**Description**  \n",
    "Given a list of integers, move all zeros to the end while maintaining the relative order of the non-zero elements. \n",
    "\n",
    "**Examples**\n",
    "```python\n",
    "Input: nums = [0, 1, 0, 3, 12]\n",
    "Output: [1, 3, 12, 0, 0]\n",
    "```\n",
    "```python\n",
    "Input: nums = [4, 0, 5, 0, 0, 6]\n",
    "Output: [4, 5, 6, 0, 0, 0]\n",
    "```\n"
   ]
  },
  {
   "cell_type": "code",
   "execution_count": null,
   "metadata": {},
   "outputs": [],
   "source": [
    "from typing import List\n",
    "\n",
    "def move_zeros_to_end(nums: List[int]) -> List[int]:\n",
    "    # TODO\n",
    "    pass"
   ]
  },
  {
   "cell_type": "markdown",
   "metadata": {},
   "source": [
    "\n",
    "## Part 2:\n",
    "\n",
    "-   Paraphrase the problem in your own words\n"
   ]
  },
  {
   "cell_type": "code",
   "execution_count": 8,
   "metadata": {},
   "outputs": [
    {
     "data": {
      "text/plain": [
       "'\\nYou’re given a list of integers, and you need to find the first number that repeats as you go through the list from left to right.\\nIf there are several duplicates, return the one that appears twice earliest in the order of the list.\\nIf every number is unique (no duplicates), return -1.\\n'"
      ]
     },
     "execution_count": 8,
     "metadata": {},
     "output_type": "execute_result"
    }
   ],
   "source": [
    "'''\n",
    "You’re given a list of integers, and you need to find the first number that repeats as you go through the list from left to right.\n",
    "If there are several duplicates, return the one that appears twice earliest in the order of the list.\n",
    "If every number is unique (no duplicates), return -1.\n",
    "'''"
   ]
  },
  {
   "cell_type": "markdown",
   "metadata": {},
   "source": [
    "- In this .ipynb file, there are examples that illustrate how the code should work (the examples provided above). Create 2 new examples for the question you have been assigned, that demonstrate you understand the problem. For question 1 and 2, you don't need to create the tree demonstration, just the input and output.\n"
   ]
  },
  {
   "cell_type": "code",
   "execution_count": 13,
   "metadata": {},
   "outputs": [
    {
     "name": "stdout",
     "output_type": "stream",
     "text": [
      "Input: [2, 1, 3, 5, 3, 2]\n",
      "Output: 3\n",
      "\n",
      "Input: [3, 1, 4, 2, 5, 3, 1, 1, 6]\n",
      "Output: 3\n",
      "\n",
      "Input: [0, 1, 2, 3, 4, 5, 6, 7, 8, 9, 10]\n",
      "Output: -1\n",
      "\n",
      "Input: [1, 5, 4, 7, 6, 8, 5, 4, 3, 2, 1]\n",
      "Output: 5\n",
      "\n"
     ]
    }
   ],
   "source": [
    "from typing import List\n",
    "\n",
    "def first_duplicate(nums: List[int]) -> int:\n",
    "    present = []\n",
    "    for num in nums:\n",
    "        if num in present:\n",
    "            return num\n",
    "        present.append(num)\n",
    "    return -1\n",
    "    \n",
    "\n",
    "# Test 1\n",
    "nums = [2, 1, 3, 5, 3, 2]\n",
    "print(\"Input:\", nums)\n",
    "print(\"Output:\", first_duplicate(nums))\n",
    "print()\n",
    "\n",
    "# Test 2\n",
    "nums = [3, 1, 4, 2, 5, 3, 1, 1, 6]\n",
    "print(\"Input:\", nums)\n",
    "print(\"Output:\", first_duplicate(nums))\n",
    "print()\n",
    "\n",
    "# Test 3\n",
    "nums = [0, 1, 2, 3, 4, 5, 6, 7, 8, 9, 10]\n",
    "print(\"Input:\", nums)\n",
    "print(\"Output:\", first_duplicate(nums))\n",
    "print()\n",
    "\n",
    "# Test 4\n",
    "nums = [1, 5, 4, 7, 6, 8, 5, 4, 3, 2, 1]\n",
    "print(\"Input:\", nums)\n",
    "print(\"Output:\", first_duplicate(nums))\n",
    "print()"
   ]
  },
  {
   "cell_type": "markdown",
   "metadata": {},
   "source": [
    "\n",
    "-   Code the solution to your assigned problem in Python (code chunk). Note: each problem can be solved more simply if you use an abstract data type that is suitable for that problem. Using that try to find the best time and space complexity solution!\n"
   ]
  },
  {
   "cell_type": "code",
   "execution_count": 14,
   "metadata": {},
   "outputs": [
    {
     "name": "stdout",
     "output_type": "stream",
     "text": [
      "Input: [3, 1, 4, 2, 5, 1, 6]\n",
      "Output: 1\n",
      "\n",
      "Input: [7, 8, 9, 10]\n",
      "Output: -1\n",
      "\n",
      "Input: [4, 5, 6, 4, 6]\n",
      "Output: 4\n"
     ]
    }
   ],
   "source": [
    "from typing import List\n",
    "\n",
    "def first_duplicate(nums: List[int]) -> int:\n",
    "    seen = set()\n",
    "    for num in nums:\n",
    "        if num in seen:\n",
    "            return num\n",
    "        seen.add(num)\n",
    "    return -1\n",
    "\n",
    "# Test 1\n",
    "nums = [3, 1, 4, 2, 5, 1, 6]\n",
    "print(\"Input:\", nums)\n",
    "print(\"Output:\", first_duplicate(nums))\n",
    "print()\n",
    "\n",
    "# Test 2\n",
    "nums = [7, 8, 9, 10]\n",
    "print(\"Input:\", nums)\n",
    "print(\"Output:\", first_duplicate(nums))\n",
    "print()\n",
    "\n",
    "# Test 3\n",
    "nums = [4, 5, 6, 4, 6]\n",
    "print(\"Input:\", nums)\n",
    "print(\"Output:\", first_duplicate(nums))"
   ]
  },
  {
   "cell_type": "markdown",
   "metadata": {},
   "source": [
    "\n",
    "-   Explain why your solution works\n"
   ]
  },
  {
   "cell_type": "code",
   "execution_count": 15,
   "metadata": {},
   "outputs": [
    {
     "data": {
      "text/plain": [
       "\"\\nFor the primary code written without abstract data structure, here it is:\\nWe start by creating an empty list called 'present'. This list will keep track of all the numbers we've come across so far.\\nThen, it goes through each number (num) in the input list (nums), one at a time.\\nIf the number is already in the 'present' list, that means we've seen it before, so it's a duplicate.In that case, the function returns that number immediately.\\nIf the number is not in 'present', it adds the number to the 'present' list and moves on.\\nIf the loop finishes without finding any duplicates, the function returns -1, meaning no duplicate was found.\\n\""
      ]
     },
     "execution_count": 15,
     "metadata": {},
     "output_type": "execute_result"
    }
   ],
   "source": [
    "'''\n",
    "For the primary code written without abstract data structure, here it is:\n",
    "We start by creating an empty list called 'present'. This list will keep track of all the numbers we've come across so far.\n",
    "Then, it goes through each number (num) in the input list (nums), one at a time.\n",
    "If the number is already in the 'present' list, that means we've seen it before, so it's a duplicate.In that case, the function returns that number immediately.\n",
    "If the number is not in 'present', it adds the number to the 'present' list and moves on.\n",
    "If the loop finishes without finding any duplicates, the function returns -1, meaning no duplicate was found.\n",
    "'''"
   ]
  },
  {
   "cell_type": "markdown",
   "metadata": {},
   "source": [
    "\n",
    "-   Explain the problem’s time and space complexity\n"
   ]
  },
  {
   "cell_type": "code",
   "execution_count": 16,
   "metadata": {},
   "outputs": [
    {
     "data": {
      "text/plain": [
       "\"\\nFor code without using abstarct data structure, here it is:\\nTime Complexity Analysis-\\nIterating over all the elements in the list takes O(n) time. \\nIn the worst case, if 'present' list grows to size n, and each lookup takes up to O(n) time.\\nSo overall time complexity can degrade to O(n^2) in the worst case.\\n\\nSpace Complexity Analysis-\\nWe are storing up to n elements in the 'present' list, in the worst case (when there are no duplicates).So the space complexity is O(n).\\n\\nFor code using abstarct data structure, here it is:\\nTime Complexity Analysis-\\nA set allows:\\n    O(1) average-time lookup\\n    O(1) average-time insertion\\n\\nSo iterating through the list takes O(n) time, and each lookup and insertion operation takes O(1) time on average.\\nOverall, the time complexity is O(n).\\n\\nSpace Complexity Analysis-\\nWe are storing up to n elements in the 'seen' set, in the worst case (when there are no duplicates).So the space complexity is O(n).\\n\""
      ]
     },
     "execution_count": 16,
     "metadata": {},
     "output_type": "execute_result"
    }
   ],
   "source": [
    "'''\n",
    "For code without using abstarct data structure, here it is:\n",
    "Time Complexity Analysis-\n",
    "Iterating over all the elements in the list takes O(n) time. \n",
    "In the worst case, if 'present' list grows to size n, and each lookup takes up to O(n) time.\n",
    "So overall time complexity can degrade to O(n^2) in the worst case.\n",
    "\n",
    "Space Complexity Analysis-\n",
    "We are storing up to n elements in the 'present' list, in the worst case (when there are no duplicates).So the space complexity is O(n).\n",
    "\n",
    "For code using abstarct data structure, here it is:\n",
    "Time Complexity Analysis-\n",
    "A set allows:\n",
    "    O(1) average-time lookup\n",
    "    O(1) average-time insertion\n",
    "\n",
    "So iterating through the list takes O(n) time, and each lookup and insertion operation takes O(1) time on average.\n",
    "Overall, the time complexity is O(n).\n",
    "\n",
    "Space Complexity Analysis-\n",
    "We are storing up to n elements in the 'seen' set, in the worst case (when there are no duplicates).So the space complexity is O(n).\n",
    "'''"
   ]
  },
  {
   "cell_type": "markdown",
   "metadata": {},
   "source": [
    "\n",
    "-   Explain the thinking to an alternative solution (no coding required, but a classmate reading this should be able to code it up based off your text)\n"
   ]
  },
  {
   "cell_type": "code",
   "execution_count": 17,
   "metadata": {},
   "outputs": [
    {
     "data": {
      "text/plain": [
       "\"\\nAnother alternative solution is to use a recursive function.\\nInitialization: If the 'seen' list is not provided (i.e., the first time the function is called), we create an empty list to keep track of the numbers we've already seen.\\nDefine the base case: If the nums list is empty ([]), it means we’ve gone through the entire list and found no duplicates. So we return -1.\\nCheck for duplicates: If the first element (nums[0]) is already in 'seen', then it's the first duplicate, and we return it.\\nRecursive Step: If the first element is not in 'seen', we add it to 'seen' and call the recursive function again with the rest of the list (nums[1:]). \\n\""
      ]
     },
     "execution_count": 17,
     "metadata": {},
     "output_type": "execute_result"
    }
   ],
   "source": [
    "'''\n",
    "Another alternative solution is to use a recursive function.\n",
    "Initialization: If the 'seen' list is not provided (i.e., the first time the function is called), we create an empty list to keep track of the numbers we've already seen.\n",
    "Define the base case: If the nums list is empty ([]), it means we’ve gone through the entire list and found no duplicates. So we return -1.\n",
    "Check for duplicates: If the first element (nums[0]) is already in 'seen', then it's the first duplicate, and we return it.\n",
    "Recursive Step: If the first element is not in 'seen', we add it to 'seen' and call the recursive function again with the rest of the list (nums[1:]). \n",
    "'''\n",
    "\n"
   ]
  },
  {
   "cell_type": "markdown",
   "metadata": {},
   "source": [
    "## Evaluation Criteria\n",
    "\n",
    "-   Problem is accurately stated\n",
    "\n",
    "-   Two examples are correct and easily understandable\n",
    "\n",
    "-   Correctness, time, and space complexity of the coding solution\n",
    "\n",
    "-   Clarity in explaining why the solution works, its time and space complexity\n",
    "\n",
    "-   Clarity in the proposal to the alternative solution"
   ]
  },
  {
   "cell_type": "markdown",
   "metadata": {},
   "source": [
    "## Submission Information\n",
    "\n",
    "🚨 **Please review our [Assignment Submission Guide](https://github.com/UofT-DSI/onboarding/blob/main/onboarding_documents/submissions.md)** 🚨 for detailed instructions on how to format, branch, and submit your work. Following these guidelines is crucial for your submissions to be evaluated correctly.\n",
    "\n",
    "### Submission Parameters:\n",
    "* Submission Due Date: `HH:MM AM/PM - DD/MM/YYYY`\n",
    "* The branch name for your repo should be: `assignment-1`\n",
    "* What to submit for this assignment:\n",
    "    * This Jupyter Notebook (assignment_1.ipynb) should be populated and should be the only change in your pull request.\n",
    "* What the pull request link should look like for this assignment: `https://github.com/<your_github_username>/algorithms_and_data_structures/pull/<pr_id>`\n",
    "    * Open a private window in your browser. Copy and paste the link to your pull request into the address bar. Make sure you can see your pull request properly. This helps the technical facilitator and learning support staff review your submission easily.\n",
    "\n",
    "Checklist:\n",
    "- [ ] Create a branch called `assignment-1`.\n",
    "- [ ] Ensure that the repository is public.\n",
    "- [ ] Review [the PR description guidelines](https://github.com/UofT-DSI/onboarding/blob/main/onboarding_documents/submissions.md#guidelines-for-pull-request-descriptions) and adhere to them.\n",
    "- [ ] Verify that the link is accessible in a private browser window.\n",
    "\n",
    "If you encounter any difficulties or have questions, please don't hesitate to reach out to our team via our Slack at `#cohort-3-help`. Our Technical Facilitators and Learning Support staff are here to help you navigate any challenges."
   ]
  }
 ],
 "metadata": {
  "kernelspec": {
   "display_name": "Python 3",
   "language": "python",
   "name": "python3"
  },
  "language_info": {
   "codemirror_mode": {
    "name": "ipython",
    "version": 3
   },
   "file_extension": ".py",
   "mimetype": "text/x-python",
   "name": "python",
   "nbconvert_exporter": "python",
   "pygments_lexer": "ipython3",
   "version": "3.9.23"
  }
 },
 "nbformat": 4,
 "nbformat_minor": 4
}
