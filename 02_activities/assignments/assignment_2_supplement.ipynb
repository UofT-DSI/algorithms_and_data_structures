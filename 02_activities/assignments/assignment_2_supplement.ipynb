{
 "cells": [
  {
   "cell_type": "markdown",
   "id": "9a940bf3",
   "metadata": {},
   "source": [
    "Paraphrase the Assignment-1(question -2) of the partner in your own words.\n",
    "# The exceptation is to return a boolean true or false as an output depending on if the string has matching brackets and/or if the same type bracket open and close . "
   ]
  },
  {
   "cell_type": "markdown",
   "id": "50d7ba66",
   "metadata": {},
   "source": [
    "Create 1 new example that demonstrates you understand the problem. Trace/walkthrough 1 example that your partner made and explain it.\n",
    "# Input \n",
    "# s = \"[({)})]\"\n",
    "\n",
    "# Output \n",
    "# false\n",
    "\n",
    "# Explanation \n",
    "# All brackets are not open and closed properly and the order is not correct .\n",
    "\n",
    "\n",
    "# Partner's example \n",
    "# Input 2 \n",
    "# s = \"(((())))[]{}[\"\n",
    "\n",
    "# Output 2\n",
    "# False\n",
    "\n",
    "# Explanation 2\n",
    "# The last square bracket has no closing bracket and hence it returns false ."
   ]
  },
  {
   "cell_type": "markdown",
   "id": "eeed0b02",
   "metadata": {},
   "source": [
    "Copy the solution your partner wrote. \n",
    "\n",
    "# copied partners solution below\n",
    "\n",
    "def is_valid_brackets(s: str) -> bool:\n",
    "    # We will initiate an empty stack to match each opening with a closing bracket.\n",
    "    bracket_stack = []\n",
    "    # We will also generate a mapping dictionary\n",
    "    bracket_map = {')' : '(',\n",
    "                   '}' : '{',\n",
    "                   ']' : '['}\n",
    "    \n",
    "    for char in s: \n",
    "        if char in bracket_map.values():  # .values() contains all the opening bracket values\n",
    "            bracket_stack.append(char) # if the character/string is an opening bracket then append to the stack\n",
    "\n",
    "        elif char in bracket_map: # Now checking for closing brackets \n",
    "            if not bracket_stack or bracket_stack[-1] != bracket_map[char]: # if the closing bracket not matched with an opening bracket then it should print false\n",
    "                return False\n",
    "            bracket_stack.pop() # opening and closed backet matched, so we are poppig the stack by removing the opening bracket\n",
    "\n",
    "        else:\n",
    "            return False \n",
    "    \n",
    "    return len(bracket_stack) == 0\n",
    "\n",
    "# Lets run Input 1\n",
    "\n",
    "# Input 1 \n",
    "s = \"[({})]\"\n",
    "\n",
    "# Execute the function\n",
    "is_valid_brackets(s)"
   ]
  },
  {
   "cell_type": "markdown",
   "id": "399dbe52",
   "metadata": {},
   "source": [
    "Explain why their solution works in your own words.\n",
    "# They have used stack algorithm or data structure  , which is perfect because it follows LIFO , last in frist out. This is best suited for bracket matching because when it sees an open bracket it expects an corresponding opening bracket and all brackets must be matched meaning empty stack at the end .\n",
    "\n",
    "# stack ensures that we match brackets in the correct nested order.\n"
   ]
  },
  {
   "cell_type": "markdown",
   "id": "cb76bbc2",
   "metadata": {},
   "source": [
    "Explain the problem’s time and space complexity in your own words.\n",
    "# The algorithm is O(n) time and O(n) space, making it very efficient.  the worst case is the stack traverses through the entire stack to find a matching bracket."
   ]
  },
  {
   "cell_type": "markdown",
   "id": "1a1e0380",
   "metadata": {},
   "source": [
    "Critique your partner's solution, including explanation, and if there is anything that should be adjusted.\n",
    "# The solution provided is the best by using stack they have utlised the LIFO algorithm . The space complexity and time complexity is O(n) which is the best in terms of performance . \n",
    "# They could have used recursive function too , but then the space and time complexity will be O(n2)."
   ]
  },
  {
   "cell_type": "markdown",
   "id": "c6936b92",
   "metadata": {},
   "source": [
    "Reflection \n",
    "# Both Assignments help us understand how and which  algorithms and data structures to use in order to solve the problems , so that the time and space complexity or the Big o notation remain the smallest O(n).\n",
    "# while peer revewing partners assignmnet , I learnt how important documentation  is and how best to make the notebook look readable and I have made changes to how I document post the learning from my partner. \n",
    "# There also can be multiple ways to approach a problem and it is exciting to see how each one affect the performance metrics darstically."
   ]
  },
  {
   "cell_type": "markdown",
   "id": "5f7eef12",
   "metadata": {},
   "source": []
  }
 ],
 "metadata": {
  "kernelspec": {
   "display_name": "dsi_participant",
   "language": "python",
   "name": "python3"
  },
  "language_info": {
   "name": "python",
   "version": "3.9.15"
  }
 },
 "nbformat": 4,
 "nbformat_minor": 5
}
