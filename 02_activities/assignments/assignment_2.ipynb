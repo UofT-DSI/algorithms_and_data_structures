{
 "cells": [
  {
   "cell_type": "markdown",
   "metadata": {},
   "source": [
    "# Practice Interview\n",
    "\n",
    "## Objective\n",
    "\n",
    "_*The partner assignment aims to provide participants with the opportunity to practice coding in an interview context. You will analyze your partner's Assignment 1. Moreover, code reviews are common practice in a software development team. This assignment should give you a taste of the code review process.*_\n",
    "\n",
    "## Group Size\n",
    "\n",
    "Each group should have 2 people. You will be assigned a partner\n",
    "\n",
    "## Parts:\n",
    "- Part 1: Complete 1 of 3 questions\n",
    "- Part 2: Review your partner's Assignment 1 submission\n",
    "- Part 3: Perform code review of your partner's assignment 1 by answering the questions below\n",
    "- Part 3: Reflect on Assignment 1 and Assignment 2\n",
    "\n",
    "## Part 1:\n",
    "\n",
    "_*You will be assigned one of three problems based of your first name. Enter your first name, in all lower case, execute the code below, and that will tell you your assigned problem. Include the output as part of your submission (do not clear the output). The problems are based-off problems from Leetcode.*_"
   ]
  },
  {
   "cell_type": "code",
   "execution_count": 1,
   "metadata": {},
   "outputs": [
    {
     "name": "stdout",
     "output_type": "stream",
     "text": [
      "2\n"
     ]
    }
   ],
   "source": [
    "import hashlib\n",
    "\n",
    "def hash_to_range(input_string: str) -> int:\n",
    "     hash_object = hashlib.sha256(input_string.encode())\n",
    "     hash_int = int(hash_object.hexdigest(), 16)\n",
    "     return (hash_int % 3) + 1\n",
    "input_string = \"omar\"\n",
    "result = hash_to_range(input_string)\n",
    "print(result)\n"
   ]
  },
  {
   "cell_type": "markdown",
   "metadata": {},
   "source": [
    "<details>\n",
    "  <summary>Question 1</summary>\n",
    "\n",
    "  # Question One: Check Duplicates in Tree\n",
    "\n",
    "  Given the `root` of a binary tree, check whether it is contains a duplicate value. If a duplicate exists, return the duplicate value. If there are multiple duplicates, return the one with the closest distance to the root. If no duplicate exists, return -1.\n",
    "\n",
    "  ## Examples\n",
    "\n",
    "  ### Example 1\n",
    "\n",
    "  ![](./images/q1_ex1.png)\n",
    "\n",
    "  Input: `root = [1, 2, 2, 3, 5, 6, 7]` *What traversal method is this?*\n",
    "\n",
    "  Output: 2\n",
    "\n",
    "  ### Example 2\n",
    "\n",
    "  ![](./images/q1_ex2.png)\n",
    "\n",
    "  Input: `root = [1, 10, 2, 3, 10, 12, 12]`\n",
    "\n",
    "  Output: 10\n",
    "\n",
    "  ### Example 3\n",
    "\n",
    "  ![](./images/q1_ex3.png)\n",
    "\n",
    "  Input: `root = [10, 9, 8, 7]`\n",
    "\n",
    "  Output: -1\n",
    "\n",
    "</details>\n",
    "\n",
    "#### Starter Code for Question 1"
   ]
  },
  {
   "cell_type": "code",
   "execution_count": null,
   "metadata": {},
   "outputs": [],
   "source": [
    "# Definition for a binary tree node.\n",
    "# class TreeNode(object):\n",
    "#     def __init__(self, val = 0, left = None, right = None):\n",
    "#         self.val = val\n",
    "#         self.left = left\n",
    "#         self.right = right\n",
    "def is_duplicate(root: TreeNode) -> int:\n",
    "  # TODO"
   ]
  },
  {
   "cell_type": "markdown",
   "metadata": {},
   "source": [
    "<details>\n",
    "  <summary>Question 2</summary>\n",
    "\n",
    "  # Question Two: Path to Leaves\n",
    "\n",
    "  Given the `root` of a binary tree, return all root to leaf paths in any order.\n",
    "\n",
    "  ## Examples\n",
    "\n",
    "  ### Example 1\n",
    "\n",
    "  ![](./images/q1_ex1.png)\n",
    "\n",
    "  Input: `root = [1, 2, 2, 3, 5, 6, 7]` *What traversal method is this?*\n",
    "\n",
    "  Output: [[1, 2, 3], [1, 2, 5], [1, 2, 6], [1, 2, 7]]\n",
    "\n",
    "  ### Example 2\n",
    "\n",
    "  ![](./images/q1_ex3.png)\n",
    "\n",
    "  Input: `root = [10, 9, 7, 8]`\n",
    "\n",
    "  Output: [[10, 7], [10, 9, 8]]\n",
    "\n",
    "</details>\n",
    "\n",
    "#### Starter Code for Question 2"
   ]
  },
  {
   "cell_type": "code",
   "execution_count": 15,
   "metadata": {},
   "outputs": [
    {
     "name": "stdout",
     "output_type": "stream",
     "text": [
      "[[1, 2, 7], [1, 2, 6], [1, 2, 5], [1, 2, 3]]\n"
     ]
    }
   ],
   "source": [
    "# The traversal method for the first example is Depth-First Search (DFS) method.\n",
    "\n",
    "\n",
    "# Definition for a binary tree node.\n",
    "# class TreeNode(object):\n",
    "#     def __init__(self, val = 0, left = None, right = None):\n",
    "#         self.val = val\n",
    "#         self.left = left\n",
    "#         self.right = right\n",
    "# def bt_path(root: TreeNode) -> List[List[int]]:\n",
    "#   # TODO\n",
    "\n",
    "class TreeNode(object):\n",
    "    def __init__(self, val=0, left=None, right=None):\n",
    "        self.val = val\n",
    "        self.left = left\n",
    "        self.right = right\n",
    "\n",
    "def bt_path (root: TreeNode): # -> List(List[int]): #find_root_to_leaf_paths\n",
    "    paths = []\n",
    "\n",
    "    def dfs(node, current_path):\n",
    "        if not node:\n",
    "            return\n",
    "\n",
    "        current_path.append(node.val)\n",
    "\n",
    "        if not node.left and not node.right:  # Leaf node\n",
    "            paths.append(list(current_path))  # Add a copy of the path\n",
    "        else:\n",
    "            dfs(node.right, current_path)\n",
    "            dfs(node.left, current_path)\n",
    "            \n",
    "\n",
    "        current_path.pop()  # Backtrack\n",
    "\n",
    "    dfs(root, [])\n",
    "    return paths\n",
    "\n",
    "# To construct the example 1 tree from the given input and obtain the desired output,\n",
    "# the tree structure needs to be explicitly defined.\n",
    "# For example, if the input [1, 2, 2, 3, 5, 6, 7] represents:\n",
    "#        1\n",
    "#      /   \\\n",
    "#     2     2\n",
    "#    / \\   / \\\n",
    "#   3   5 6   7\n",
    "#\n",
    "# # Then the tree construction would be:\n",
    "root = TreeNode(1)\n",
    "root.left = TreeNode(2)\n",
    "root.right = TreeNode(2)\n",
    "root.left.left = TreeNode(3)\n",
    "root.left.right = TreeNode(5)\n",
    "root.right.left = TreeNode(6)\n",
    "root.right.right = TreeNode(7)\n",
    "\n",
    "paths = bt_path(root) #find_root_to_leaf_paths(root)\n",
    "print(paths) # Output: [[1, 2, 3], [1, 2, 5], [1, 2, 6], [1, 2, 7]] (Order might vary depending on traversal)\n",
    "\n",
    "# To construct the example 2 tree from the given input and obtain the desired output,\n",
    "# the tree structure needs to be explicitly defined.\n",
    "# For example, if the input [10, 9, 7, 8] represents:\n",
    "#       10\n",
    "#      /  \\\n",
    "#     9    7\n",
    "#    /\n",
    "#   8\n",
    "#\n",
    "# Then the tree construction would be:\n",
    "# root = TreeNode(10)\n",
    "# root.left = TreeNode(9)\n",
    "# root.right = TreeNode(7)\n",
    "# root.left.left = TreeNode(8)\n",
    "\n",
    "# paths = bt_path(root)\n",
    "# print(paths) # Output: [[10, 7], [10, 9, 8]] (Order might vary depending on traversal)\n"
   ]
  },
  {
   "cell_type": "markdown",
   "metadata": {},
   "source": [
    "<details>\n",
    "  <summary>Question 3</summary>\n",
    "\n",
    "  # Question Three: Missing Number in Range\n",
    " \n",
    "  You are given a list containing `n` integers in the range `[0, n]`. Return a list of numbers that are missing from the range `[0, n]` of the array. If there is no missing number, return -1. Note, all the integers in the list may not be unique.\n",
    "  \n",
    "  ## Examples\n",
    "\n",
    "  ### Example 1\n",
    "\n",
    "  Input: `lst = [0, 2]`\n",
    "\n",
    "  Output: [1]\n",
    "\n",
    "  ### Example 2\n",
    "\n",
    "  Input: `lst = [5, 0, 1]`\n",
    "\n",
    "  Output: [2, 3, 4]\n",
    "\n",
    "  ### Example 3\n",
    "\n",
    "  Input: `lst = [6, 8, 2, 3, 5, 7, 0, 1, 10]`\n",
    "\n",
    "  Output: [4, 9]\n",
    "\n",
    "</details>\n",
    "\n",
    "#### Starter Code for Question 3\n"
   ]
  },
  {
   "cell_type": "code",
   "execution_count": null,
   "metadata": {
    "scrolled": true
   },
   "outputs": [],
   "source": [
    "def missing_num(nums: List) -> int:\n",
    "  # TODO"
   ]
  },
  {
   "cell_type": "markdown",
   "metadata": {
    "jp-MarkdownHeadingCollapsed": true
   },
   "source": [
    "## Part 2:\n",
    "\n",
    "You and your partner must share each other's Assignment 1 submission."
   ]
  },
  {
   "cell_type": "markdown",
   "metadata": {},
   "source": [
    "\n",
    "## Part 3:\n",
    "\n",
    "Create a Jupyter Notebook, create 6 of the following headings, and complete the following for your partner's assignment 1:\n",
    "\n",
    "-   Paraphrase the problem in your own words.\n"
   ]
  },
  {
   "cell_type": "code",
   "execution_count": null,
   "metadata": {},
   "outputs": [],
   "source": [
    "# Your answer here\n",
    "# The problem is to find the only first duplicated number and print it as an output. \n",
    "# If no duplicate numbers are detected then the output is -1."
   ]
  },
  {
   "cell_type": "markdown",
   "metadata": {},
   "source": [
    "\n",
    "-   Create 1 new example that demonstrates you understand the problem. Trace/walkthrough 1 example that your partner made and explain it.\n"
   ]
  },
  {
   "cell_type": "code",
   "execution_count": null,
   "metadata": {},
   "outputs": [
    {
     "name": "stdout",
     "output_type": "stream",
     "text": [
      "-1\n",
      "-2\n"
     ]
    }
   ],
   "source": [
    "# Your answer here\n",
    "# Maria created a set \"ex_1 = [0, 1, 10, 30] \" & \"ex_2 = [0, 4, 5, -2, 2, -2]\" as examples on her code's validity. \n",
    "# Her code, that is listed below in the next section, goes through each set and look for a duplicated number. \n",
    "# In ex_1, there are no duplicate numbers, so the output is -1.\n",
    "# In ex_2, -2 is the only duplicated number which is printed as an output.\n",
    "\n",
    "\n",
    "ex_1 = [0, 1, 10, 30]  # should return -1\n",
    "ex_2 = [0, 4, 5, -2, 2, -2]  # should return -2\n",
    "\n",
    "print(first_duplicate(ex_1))\n",
    "print(first_duplicate(ex_2))\n"
   ]
  },
  {
   "cell_type": "markdown",
   "metadata": {},
   "source": [
    "\n",
    "-   Copy the solution your partner wrote. \n"
   ]
  },
  {
   "cell_type": "code",
   "execution_count": 13,
   "metadata": {},
   "outputs": [],
   "source": [
    "from typing import List\n",
    "# my solution\n",
    "\n",
    "def first_duplicate(nums: List[int]) -> int:\n",
    "    # Count no. incidences of each number\n",
    "    nums_dict = {}\n",
    "    for i in nums:\n",
    "        if i in nums_dict.keys():\n",
    "            nums_dict[i] += 1\n",
    "        else:\n",
    "            nums_dict[i] = 1\n",
    "    \n",
    "    # check for first number with occurrence > 1\n",
    "    for key, item in nums_dict.items():\n",
    "        if item>1:\n",
    "            return key\n",
    "    \n",
    "    # if above does not return anything, then:\n",
    "    return -1"
   ]
  },
  {
   "cell_type": "code",
   "execution_count": 15,
   "metadata": {},
   "outputs": [
    {
     "name": "stdout",
     "output_type": "stream",
     "text": [
      "1\n"
     ]
    }
   ],
   "source": [
    "ex_1 = [0, 1, 10, 1, 30] \n",
    "\n",
    "\n",
    "print(first_duplicate(ex_1))"
   ]
  },
  {
   "cell_type": "markdown",
   "metadata": {},
   "source": [
    "\n",
    "-   Explain why their solution works in your own words.\n"
   ]
  },
  {
   "cell_type": "code",
   "execution_count": null,
   "metadata": {},
   "outputs": [],
   "source": [
    "# Your answer here\n",
    "# Her code is leveraging dictionary by storing the numbers from the example as keys and their repetition as their values, \n",
    "# then the code will check on whether the keys are occuring more than once (by checking key's values being bigger than 1), if yes, then the key is returned. \n",
    "# if none, then -1 is returned."
   ]
  },
  {
   "cell_type": "markdown",
   "metadata": {},
   "source": [
    "\n",
    "-   Explain the problem’s time and space complexity in your own words.\n"
   ]
  },
  {
   "cell_type": "code",
   "execution_count": null,
   "metadata": {},
   "outputs": [],
   "source": [
    "# Your answer \n",
    "# Since her code is leveraging 2 non-nested For loops, the space and complexity are both O(n) which is a fairly optimized code. \n",
    "# Regarding dict, its Big O complexity is equal to O(1) since it is a type of hashing table.\n"
   ]
  },
  {
   "cell_type": "markdown",
   "metadata": {},
   "source": [
    "\n",
    "-   Critique your partner's solution, including explanation, and if there is anything that should be adjusted.\n"
   ]
  },
  {
   "cell_type": "code",
   "execution_count": null,
   "metadata": {},
   "outputs": [],
   "source": [
    "# Your answer here\n",
    "# Through debugging, I was able to check on every step of her code and to enhance it by; first, removing the second For loop, \n",
    "# and then, use a set rather than dictionary to check on whether a number is already in the set rather than counting its occurances \n",
    "# which reduced the code lines. \n",
    "# Below is the code enhanced.\n",
    "\n",
    "from typing import List\n",
    "# Maria's enhanced code\n",
    "\n",
    "def first_duplicate(nums: List[int]) -> int:\n",
    "    # Count no. incidences of each number\n",
    "    nums_set = set() # I used set instead of dict.\n",
    "    for i in nums: # Its complexity is O(n)\n",
    "        if i in nums_set: # Since we are using a set instead of a list, which is considered a hashing table, then the complexity for the in operator is O(1).\n",
    "            return i # So I skipped the counting of every number, there by reduced the execution time of the code.\n",
    "        else:\n",
    "            nums_set.add(i) # Since it is a set, then the Big O Complexity is actually O(1) where if we used list, then the Big O Complexity will be O(n).\n",
    "       # if above does not return anything, then:\n",
    "    return -1"
   ]
  },
  {
   "cell_type": "code",
   "execution_count": 34,
   "metadata": {},
   "outputs": [
    {
     "name": "stdout",
     "output_type": "stream",
     "text": [
      "1\n"
     ]
    }
   ],
   "source": [
    "ex_1 = [0, 1, 10, 1, 30] \n",
    "\n",
    "print(first_duplicate(ex_1))"
   ]
  },
  {
   "cell_type": "markdown",
   "metadata": {},
   "source": [
    "\n",
    "## Part 4:\n",
    "\n",
    "Please write a 200 word reflection documenting your process from assignment 1, and your presentation and review experience with your partner at the bottom of the Jupyter Notebook under a new heading \"Reflection.\" Again, export this Notebook as pdf.\n"
   ]
  },
  {
   "cell_type": "markdown",
   "metadata": {},
   "source": [
    "### Reflection"
   ]
  },
  {
   "cell_type": "code",
   "execution_count": null,
   "metadata": {},
   "outputs": [],
   "source": [
    "# Your answer here - Write about my experience solving my Q2 NOT my partner's, as a feedback on my experience. NO PDF is required.\n",
    "# I love the assignment in general, in the sense that I'm being pushed to read, investigate and search more about the problem. \n",
    "# This will explose me to additional topics I didn't know of. \n",
    "# For the first assignment, I learnt the method of leveraging empty dictionaries to be used for various purposes including scanning and comparing items from the input list, \n",
    "# which will help reducing the complexity of the function from O(n) to O(1) since dict are a type of hashing tables.\n",
    "# For the review process, I asked Tianyi to explain to me the debugging of code, he did in a very good way. So I ended up using the debugging to understand her code\n",
    "# which enabled me to enhance it as described earlier. So this process of review had expanded the way of thinking about code \n",
    "# and it actually enhanced my learning process for writing future code."
   ]
  },
  {
   "cell_type": "markdown",
   "metadata": {},
   "source": [
    "\n",
    "## Evaluation Criteria\n",
    "\n",
    "We are looking for the similar points as Assignment 1\n",
    "\n",
    "-   Problem is accurately stated\n",
    "\n",
    "-   New example is correct and easily understandable\n",
    "\n",
    "-   Correctness, time, and space complexity of the coding solution\n",
    "\n",
    "-   Clarity in explaining why the solution works, its time and space complexity\n",
    "\n",
    "-   Quality of critique of your partner's assignment, if necessary\n"
   ]
  },
  {
   "cell_type": "markdown",
   "metadata": {},
   "source": [
    "## Submission Information\n",
    "\n",
    "🚨 **Please review our [Assignment Submission Guide](https://github.com/UofT-DSI/onboarding/blob/main/onboarding_documents/submissions.md)** 🚨 for detailed instructions on how to format, branch, and submit your work. Following these guidelines is crucial for your submissions to be evaluated correctly.\n",
    "\n",
    "### Submission Parameters:\n",
    "* Submission Due Date: `HH:MM AM/PM - DD/MM/YYYY`\n",
    "* The branch name for your repo should be: `assignment-2`\n",
    "* What to submit for this assignment:\n",
    "    * This Jupyter Notebook (assignment_2.ipynb) should be populated and should be the only change in your pull request.\n",
    "* What the pull request link should look like for this assignment: `https://github.com/<your_github_username>/algorithms_and_data_structures/pull/<pr_id>`\n",
    "    * Open a private window in your browser. Copy and paste the link to your pull request into the address bar. Make sure you can see your pull request properly. This helps the technical facilitator and learning support staff review your submission easily.\n",
    "\n",
    "Checklist:\n",
    "- [ ] Created a branch with the correct naming convention.\n",
    "- [ ] Ensured that the repository is public.\n",
    "- [ ] Reviewed the PR description guidelines and adhered to them.\n",
    "- [ ] Verify that the link is accessible in a private browser window.\n",
    "\n",
    "If you encounter any difficulties or have questions, please don't hesitate to reach out to our team via our Slack at `#cohort-6-help`. Our Technical Facilitators and Learning Support staff are here to help you navigate any challenges.\n"
   ]
  }
 ],
 "metadata": {
  "kernelspec": {
   "display_name": "py3919",
   "language": "python",
   "name": "python3"
  },
  "language_info": {
   "codemirror_mode": {
    "name": "ipython",
    "version": 3
   },
   "file_extension": ".py",
   "mimetype": "text/x-python",
   "name": "python",
   "nbconvert_exporter": "python",
   "pygments_lexer": "ipython3",
   "version": "3.10.18"
  }
 },
 "nbformat": 4,
 "nbformat_minor": 4
}
