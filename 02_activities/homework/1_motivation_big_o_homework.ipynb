{
  "cells": [
    {
      "cell_type": "markdown",
      "id": "79078d67-1cad-401a-81b3-4d4c6b9548f3",
      "metadata": {},
      "source": [
        "# 1: Motivation and Big-O\n",
        "\n",
        "-   Cormen: Chapter 1 exercises\n",
        "\n",
        "    -   1.2-1, 1.2-2, 1.2-3\n",
        "\n",
        "-   Bhargava: Chapter 1 exercises\n",
        "\n",
        "    -   1.3 to 1.5\n",
        "\n",
        "-   Additional (for the mathematically inclined)\n",
        "\n",
        "    -   In CS, log is usually base 2, but a strong distinction is not\n",
        "        made because *logs of different bases only differ by a constant\n",
        "        factor* and constants are dropped in Big-O. Show this is true\n",
        "\n",
        "    -   Show that exponents of different bases **do not** differ by a\n",
        "        constant factor\n"
      ]
    },
    {
      "cell_type": "code",
      "execution_count": null,
      "id": "4b64abc2",
      "metadata": {},
      "outputs": [],
      "source": [
        "# Your code here"
      ]
    },
    {
      "cell_type": "markdown",
      "id": "581d8364",
      "metadata": {},
      "source": [
        "1.2-1<br>\n",
        "Give an example of an application that requires algorithmic content at the application level, and discuss the function of the algorithms involved."
      ]
    },
    {
      "cell_type": "markdown",
      "id": "17319f81",
      "metadata": {},
      "source": [
        "Answer: A ride-sharing application like Uber or Lyft is a great example of an application that heavily relies on algorithmic content. <br>\n",
        "These apps utilize various algorithms to match riders with drivers, optimize routes, and calculate fares, all based on real-time data and user input"
      ]
    },
    {
      "cell_type": "markdown",
      "id": "b6e8c86f",
      "metadata": {},
      "source": [
        "1.2-2<br>\n",
        "Suppose we are comparing implementations of insertion sort and merge sort on the\n",
        "same machine. For inputs of size n, insertion sort runs in 8n2 steps, while merge\n",
        "sort runs in 64n lg n steps. For which values of n does insertion sort beat merge\n",
        "sort?"
      ]
    },
    {
      "cell_type": "code",
      "execution_count": 65,
      "id": "e980bc03",
      "metadata": {},
      "outputs": [
        {
          "name": "stdout",
          "output_type": "stream",
          "text": [
            "The merge sort algorithm beats the insertion sort algorithm when n = 44\n"
          ]
        }
      ],
      "source": [
        "import math\n",
        "\n",
        "def equation1(n): # this is the equation for the insertion sort algorithm\n",
        "    return 8*(n**2)\n",
        "\n",
        "def equation2(n): # This is the equation for the merge sort algorithm\n",
        "    return 64*n*math.log2(n)\n",
        "\n",
        "for n in range(2, 101):  # Try n from 2 to 100 to choose the smallest value of n where the first algorithm is fater than the second one.\n",
        "    if equation1(n) >= equation2(n):\n",
        "        print(f\"The merge sort algorithm beats the insertion sort algorithm when n = {n}\")\n",
        "        break\n"
      ]
    },
    {
      "cell_type": "markdown",
      "id": "79d29b60",
      "metadata": {},
      "source": [
        "1.2-3<br>\n",
        "What is the smallest value of n such that an algorithm whose running time is 100n2\n",
        "runs faster than an algorithm whose running time is 2n on the same machine?"
      ]
    },
    {
      "cell_type": "code",
      "execution_count": 64,
      "id": "9a6a4336",
      "metadata": {},
      "outputs": [
        {
          "name": "stdout",
          "output_type": "stream",
          "text": [
            "The first algorithm beats the second alorithm when n = 15\n"
          ]
        }
      ],
      "source": [
        "import math\n",
        "\n",
        "def equation1(n): # this is the equation for the first algorithm\n",
        "    return 100*(n**2)\n",
        "\n",
        "def equation2(n): # This is the equation for the second algorithm\n",
        "    return 2**n\n",
        "\n",
        "for n in range(1, 101):  # Try n from 1 to 100 to choose the smallest value of n where the first algorithm is fater than the second one.\n",
        "    if equation1(n) <= equation2(n):\n",
        "        print(f\"The first algorithm beats the second alorithm when n = {n}\")\n",
        "        break"
      ]
    },
    {
      "cell_type": "code",
      "execution_count": null,
      "id": "383f1c9e",
      "metadata": {},
      "outputs": [],
      "source": []
    }
  ],
  "metadata": {
    "kernelspec": {
      "display_name": "dsi_participant",
      "language": "python",
      "name": "python3"
    },
    "language_info": {
      "codemirror_mode": {
        "name": "ipython",
        "version": 3
      },
      "file_extension": ".py",
      "mimetype": "text/x-python",
      "name": "python",
      "nbconvert_exporter": "python",
      "pygments_lexer": "ipython3",
      "version": "3.9.7"
    }
  },
  "nbformat": 4,
  "nbformat_minor": 5
}
